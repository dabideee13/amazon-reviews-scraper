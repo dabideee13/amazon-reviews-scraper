{
 "cells": [
  {
   "cell_type": "code",
   "execution_count": 1,
   "id": "70c0f065",
   "metadata": {},
   "outputs": [],
   "source": [
    "import time\n",
    "import random\n",
    "from typing import Optional, List, Dict, Union, Any\n",
    "from itertools import chain\n",
    "from pathlib import Path\n",
    "\n",
    "import requests\n",
    "import numpy as np\n",
    "import pandas as pd\n",
    "import plotly.express as px"
   ]
  },
  {
   "cell_type": "code",
   "execution_count": 3,
   "id": "e237c10b",
   "metadata": {},
   "outputs": [],
   "source": [
    "def format_rating(rating: str) -> Union[float, None]:\n",
    "    try:\n",
    "        rate = rating.split()[0]\n",
    "        return eval(rate)\n",
    "    except (AttributeError, IndexError):\n",
    "        pass"
   ]
  },
  {
   "cell_type": "code",
   "execution_count": null,
   "id": "f8ba9b61",
   "metadata": {},
   "outputs": [],
   "source": [
    "import nltk\n",
    "import ssl\n",
    "\n",
    "try:\n",
    "    _create_unverified_https_context = ssl._create_unverified_context\n",
    "except AttributeError:\n",
    "    pass\n",
    "else:\n",
    "    ssl._create_default_https_context = _create_unverified_https_context\n",
    "\n",
    "nltk.download('vader_lexicon')"
   ]
  },
  {
   "cell_type": "code",
   "execution_count": 4,
   "id": "669bea87",
   "metadata": {},
   "outputs": [],
   "source": [
    "from nltk.sentiment.vader import SentimentIntensityAnalyzer"
   ]
  },
  {
   "cell_type": "code",
   "execution_count": 5,
   "id": "494bf65c",
   "metadata": {},
   "outputs": [],
   "source": [
    "vds = SentimentIntensityAnalyzer()"
   ]
  },
  {
   "cell_type": "code",
   "execution_count": 17,
   "id": "8587fb1a",
   "metadata": {},
   "outputs": [
    {
     "data": {
      "text/plain": [
       "1"
      ]
     },
     "execution_count": 17,
     "metadata": {},
     "output_type": "execute_result"
    }
   ],
   "source": [
    "label_sentiment(\"I am happy\", 'integer')"
   ]
  },
  {
   "cell_type": "code",
   "execution_count": 15,
   "id": "254f61b0",
   "metadata": {},
   "outputs": [],
   "source": [
    "def label_sentiment(text: str, mode: str = 'string') -> int:\n",
    "    _sentiment_dict = {\n",
    "        'string': {\n",
    "            'positive': 'positive',\n",
    "            'neutral': 'neutral',\n",
    "            'negative': 'negative'\n",
    "        },\n",
    "        'integer': {\n",
    "            'positive': 1,\n",
    "            'neutral': 0,\n",
    "            'negative': -1\n",
    "        }\n",
    "    }\n",
    "    \n",
    "    sentiment_stats = vds.polarity_scores(text)\n",
    "    sentiment = sentiment_stats['compound']\n",
    "\n",
    "    sentiment_dict = _sentiment_dict[mode]\n",
    "\n",
    "    if sentiment >= 0.05:\n",
    "        return sentiment_dict['positive']\n",
    "    elif (sentiment > -0.05) and (sentiment < 0.05):\n",
    "        return sentiment_dict['neutral']\n",
    "    else:\n",
    "        return sentiment_dict['negative']"
   ]
  },
  {
   "cell_type": "markdown",
   "id": "22748d8e",
   "metadata": {},
   "source": []
  },
  {
   "cell_type": "code",
   "execution_count": 7,
   "id": "e0761ff3",
   "metadata": {},
   "outputs": [],
   "source": [
    "data_path = lambda filename: Path.joinpath(Path.cwd().parent, 'data', filename)"
   ]
  },
  {
   "cell_type": "code",
   "execution_count": 8,
   "id": "5dae821f",
   "metadata": {},
   "outputs": [],
   "source": [
    "df = pd.read_csv(data_path('keychron_K2_reviews.csv'))"
   ]
  },
  {
   "cell_type": "code",
   "execution_count": 9,
   "id": "50ac584d",
   "metadata": {},
   "outputs": [],
   "source": [
    "df = df.drop(df.columns[0], axis=1)"
   ]
  },
  {
   "cell_type": "code",
   "execution_count": 10,
   "id": "94867e80",
   "metadata": {},
   "outputs": [],
   "source": [
    "df_copy = df.copy(deep=True)"
   ]
  },
  {
   "cell_type": "code",
   "execution_count": 11,
   "id": "c34771fb",
   "metadata": {},
   "outputs": [],
   "source": [
    "df_copy['sentiment'] = df_copy.content.apply(lambda x: label_sentiment(x) if isinstance(x, str) else x)"
   ]
  },
  {
   "cell_type": "markdown",
   "id": "cdd2259d",
   "metadata": {},
   "source": []
  },
  {
   "cell_type": "code",
   "execution_count": 12,
   "id": "f15cb380",
   "metadata": {},
   "outputs": [
    {
     "data": {
      "text/html": [
       "<div>\n",
       "<style scoped>\n",
       "    .dataframe tbody tr th:only-of-type {\n",
       "        vertical-align: middle;\n",
       "    }\n",
       "\n",
       "    .dataframe tbody tr th {\n",
       "        vertical-align: top;\n",
       "    }\n",
       "\n",
       "    .dataframe thead th {\n",
       "        text-align: right;\n",
       "    }\n",
       "</style>\n",
       "<table border=\"1\" class=\"dataframe\">\n",
       "  <thead>\n",
       "    <tr style=\"text-align: right;\">\n",
       "      <th></th>\n",
       "      <th>title</th>\n",
       "      <th>content</th>\n",
       "      <th>date</th>\n",
       "      <th>variant</th>\n",
       "      <th>images</th>\n",
       "      <th>verified</th>\n",
       "      <th>author</th>\n",
       "      <th>rating</th>\n",
       "      <th>sentiment</th>\n",
       "    </tr>\n",
       "  </thead>\n",
       "  <tbody>\n",
       "    <tr>\n",
       "      <th>0</th>\n",
       "      <td>This is the best compromise I can find</td>\n",
       "      <td>First off, unlike the other review currently u...</td>\n",
       "      <td>Reviewed in the United States on September 23,...</td>\n",
       "      <td>NaN</td>\n",
       "      <td>['https://images-na.ssl-images-amazon.com/imag...</td>\n",
       "      <td>Verified Purchase</td>\n",
       "      <td>Dan</td>\n",
       "      <td>4.0 out of 5 stars</td>\n",
       "      <td>positive</td>\n",
       "    </tr>\n",
       "    <tr>\n",
       "      <th>1</th>\n",
       "      <td>better than Gateron Brown -</td>\n",
       "      <td>Althgouh still prone to typos. I am goign to w...</td>\n",
       "      <td>Reviewed in the United States on September 20,...</td>\n",
       "      <td>NaN</td>\n",
       "      <td>NaN</td>\n",
       "      <td>Verified Purchase</td>\n",
       "      <td>Isra Ignateous</td>\n",
       "      <td>4.0 out of 5 stars</td>\n",
       "      <td>negative</td>\n",
       "    </tr>\n",
       "    <tr>\n",
       "      <th>2</th>\n",
       "      <td>OK for the price, but not \"the one\"</td>\n",
       "      <td>This keyboard has a lot to offer in a competit...</td>\n",
       "      <td>Reviewed in the United States on January 6, 2020</td>\n",
       "      <td>Color: Gateron Red Switch v2</td>\n",
       "      <td>NaN</td>\n",
       "      <td>Verified Purchase</td>\n",
       "      <td>Carl</td>\n",
       "      <td>3.0 out of 5 stars</td>\n",
       "      <td>positive</td>\n",
       "    </tr>\n",
       "    <tr>\n",
       "      <th>3</th>\n",
       "      <td>Simple... IT'S AMAZING!</td>\n",
       "      <td>Well, there's not to much reviews about this k...</td>\n",
       "      <td>Reviewed in the United States on September 25,...</td>\n",
       "      <td>NaN</td>\n",
       "      <td>['https://images-na.ssl-images-amazon.com/imag...</td>\n",
       "      <td>Verified Purchase</td>\n",
       "      <td>Arturo</td>\n",
       "      <td>5.0 out of 5 stars</td>\n",
       "      <td>positive</td>\n",
       "    </tr>\n",
       "    <tr>\n",
       "      <th>4</th>\n",
       "      <td>I was not expecting to fall in love with the k...</td>\n",
       "      <td>Here's the story from the beginning. When I wa...</td>\n",
       "      <td>Reviewed in the United States on May 21, 2020</td>\n",
       "      <td>NaN</td>\n",
       "      <td>NaN</td>\n",
       "      <td>Verified Purchase</td>\n",
       "      <td>Christ</td>\n",
       "      <td>5.0 out of 5 stars</td>\n",
       "      <td>positive</td>\n",
       "    </tr>\n",
       "    <tr>\n",
       "      <th>...</th>\n",
       "      <td>...</td>\n",
       "      <td>...</td>\n",
       "      <td>...</td>\n",
       "      <td>...</td>\n",
       "      <td>...</td>\n",
       "      <td>...</td>\n",
       "      <td>...</td>\n",
       "      <td>...</td>\n",
       "      <td>...</td>\n",
       "    </tr>\n",
       "    <tr>\n",
       "      <th>568</th>\n",
       "      <td>NaN</td>\n",
       "      <td>Excelente teclado. El Bluetooth se conecta e i...</td>\n",
       "      <td>Reviewed in Mexico on October 15, 2020</td>\n",
       "      <td>Color: Gateron Red Switch v2</td>\n",
       "      <td>NaN</td>\n",
       "      <td>Verified Purchase</td>\n",
       "      <td>Edwin</td>\n",
       "      <td>NaN</td>\n",
       "      <td>positive</td>\n",
       "    </tr>\n",
       "    <tr>\n",
       "      <th>569</th>\n",
       "      <td>NaN</td>\n",
       "      <td>1</td>\n",
       "      <td>Reviewed in Canada on July 23, 2020</td>\n",
       "      <td>Color: Gateron Red Switch v2</td>\n",
       "      <td>NaN</td>\n",
       "      <td>Verified Purchase</td>\n",
       "      <td>Miguel Wang</td>\n",
       "      <td>NaN</td>\n",
       "      <td>neutral</td>\n",
       "    </tr>\n",
       "    <tr>\n",
       "      <th>570</th>\n",
       "      <td>NaN</td>\n",
       "      <td>It's great. Not perfect, but great.</td>\n",
       "      <td>Reviewed in Australia on February 23, 2021</td>\n",
       "      <td>Color: Gateron Red Switch v2</td>\n",
       "      <td>NaN</td>\n",
       "      <td>Verified Purchase</td>\n",
       "      <td>Samuel Nielsen</td>\n",
       "      <td>NaN</td>\n",
       "      <td>positive</td>\n",
       "    </tr>\n",
       "    <tr>\n",
       "      <th>571</th>\n",
       "      <td>NaN</td>\n",
       "      <td>Love it</td>\n",
       "      <td>Reviewed in Australia on August 15, 2020</td>\n",
       "      <td>Color: Gateron Brown Switch v2</td>\n",
       "      <td>NaN</td>\n",
       "      <td>Verified Purchase</td>\n",
       "      <td>wei cui</td>\n",
       "      <td>NaN</td>\n",
       "      <td>positive</td>\n",
       "    </tr>\n",
       "    <tr>\n",
       "      <th>572</th>\n",
       "      <td>NaN</td>\n",
       "      <td>NaN</td>\n",
       "      <td>Reviewed in Australia on August 10, 2021</td>\n",
       "      <td>NaN</td>\n",
       "      <td>NaN</td>\n",
       "      <td>Verified Purchase</td>\n",
       "      <td>Ben Templeton</td>\n",
       "      <td>NaN</td>\n",
       "      <td>NaN</td>\n",
       "    </tr>\n",
       "  </tbody>\n",
       "</table>\n",
       "<p>573 rows × 9 columns</p>\n",
       "</div>"
      ],
      "text/plain": [
       "                                                 title  \\\n",
       "0               This is the best compromise I can find   \n",
       "1                          better than Gateron Brown -   \n",
       "2                  OK for the price, but not \"the one\"   \n",
       "3                              Simple... IT'S AMAZING!   \n",
       "4    I was not expecting to fall in love with the k...   \n",
       "..                                                 ...   \n",
       "568                                                NaN   \n",
       "569                                                NaN   \n",
       "570                                                NaN   \n",
       "571                                                NaN   \n",
       "572                                                NaN   \n",
       "\n",
       "                                               content  \\\n",
       "0    First off, unlike the other review currently u...   \n",
       "1    Althgouh still prone to typos. I am goign to w...   \n",
       "2    This keyboard has a lot to offer in a competit...   \n",
       "3    Well, there's not to much reviews about this k...   \n",
       "4    Here's the story from the beginning. When I wa...   \n",
       "..                                                 ...   \n",
       "568  Excelente teclado. El Bluetooth se conecta e i...   \n",
       "569                                                  1   \n",
       "570                It's great. Not perfect, but great.   \n",
       "571                                            Love it   \n",
       "572                                                NaN   \n",
       "\n",
       "                                                  date  \\\n",
       "0    Reviewed in the United States on September 23,...   \n",
       "1    Reviewed in the United States on September 20,...   \n",
       "2     Reviewed in the United States on January 6, 2020   \n",
       "3    Reviewed in the United States on September 25,...   \n",
       "4        Reviewed in the United States on May 21, 2020   \n",
       "..                                                 ...   \n",
       "568             Reviewed in Mexico on October 15, 2020   \n",
       "569                Reviewed in Canada on July 23, 2020   \n",
       "570         Reviewed in Australia on February 23, 2021   \n",
       "571           Reviewed in Australia on August 15, 2020   \n",
       "572           Reviewed in Australia on August 10, 2021   \n",
       "\n",
       "                            variant  \\\n",
       "0                               NaN   \n",
       "1                               NaN   \n",
       "2      Color: Gateron Red Switch v2   \n",
       "3                               NaN   \n",
       "4                               NaN   \n",
       "..                              ...   \n",
       "568    Color: Gateron Red Switch v2   \n",
       "569    Color: Gateron Red Switch v2   \n",
       "570    Color: Gateron Red Switch v2   \n",
       "571  Color: Gateron Brown Switch v2   \n",
       "572                             NaN   \n",
       "\n",
       "                                                images           verified  \\\n",
       "0    ['https://images-na.ssl-images-amazon.com/imag...  Verified Purchase   \n",
       "1                                                  NaN  Verified Purchase   \n",
       "2                                                  NaN  Verified Purchase   \n",
       "3    ['https://images-na.ssl-images-amazon.com/imag...  Verified Purchase   \n",
       "4                                                  NaN  Verified Purchase   \n",
       "..                                                 ...                ...   \n",
       "568                                                NaN  Verified Purchase   \n",
       "569                                                NaN  Verified Purchase   \n",
       "570                                                NaN  Verified Purchase   \n",
       "571                                                NaN  Verified Purchase   \n",
       "572                                                NaN  Verified Purchase   \n",
       "\n",
       "             author              rating sentiment  \n",
       "0               Dan  4.0 out of 5 stars  positive  \n",
       "1    Isra Ignateous  4.0 out of 5 stars  negative  \n",
       "2              Carl  3.0 out of 5 stars  positive  \n",
       "3            Arturo  5.0 out of 5 stars  positive  \n",
       "4            Christ  5.0 out of 5 stars  positive  \n",
       "..              ...                 ...       ...  \n",
       "568           Edwin                 NaN  positive  \n",
       "569     Miguel Wang                 NaN   neutral  \n",
       "570  Samuel Nielsen                 NaN  positive  \n",
       "571         wei cui                 NaN  positive  \n",
       "572   Ben Templeton                 NaN       NaN  \n",
       "\n",
       "[573 rows x 9 columns]"
      ]
     },
     "execution_count": 12,
     "metadata": {},
     "output_type": "execute_result"
    }
   ],
   "source": [
    "df_copy"
   ]
  },
  {
   "cell_type": "code",
   "execution_count": null,
   "id": "904dfc65",
   "metadata": {},
   "outputs": [],
   "source": [
    "import nltk\n",
    "from nltk.corpus import stopwords\n",
    "from nltk import word_tokenize"
   ]
  },
  {
   "cell_type": "code",
   "execution_count": null,
   "id": "673c407e",
   "metadata": {},
   "outputs": [],
   "source": [
    "reviews = df_copy.content.apply(lambda x: word_tokenize(x) if isinstance(x, str) else x)"
   ]
  },
  {
   "cell_type": "code",
   "execution_count": null,
   "id": "db489354",
   "metadata": {},
   "outputs": [],
   "source": [
    "stop_words = set(stopwords.words('english') + [\"can\\'t\"])"
   ]
  },
  {
   "cell_type": "code",
   "execution_count": null,
   "id": "25191444",
   "metadata": {},
   "outputs": [],
   "source": [
    "def remove_stopwords(tokens: str) -> List[str]:\n",
    "    return [word for word in tokens if not word in stop_words]"
   ]
  },
  {
   "cell_type": "code",
   "execution_count": null,
   "id": "eec6d07f",
   "metadata": {},
   "outputs": [],
   "source": [
    "filtered_reviews = reviews.apply(lambda x: remove_stopwords(x) if isinstance(x, list) else x)"
   ]
  },
  {
   "cell_type": "code",
   "execution_count": null,
   "id": "6b00c76c",
   "metadata": {},
   "outputs": [],
   "source": [
    "sample = filtered_reviews[0]"
   ]
  },
  {
   "cell_type": "code",
   "execution_count": null,
   "id": "b32ec5f3",
   "metadata": {},
   "outputs": [],
   "source": [
    "import re"
   ]
  },
  {
   "cell_type": "code",
   "execution_count": null,
   "id": "a9ca3242",
   "metadata": {},
   "outputs": [],
   "source": [
    "def pipe(raw_input: Any, *functions, **functions_with_args) -> Any:\n",
    "    \"\"\"\n",
    "    Creates a pipeline (or chain) for every function. Basically,\n",
    "    this function initially accepts a data then passes it to the next\n",
    "    function, then the output passes it to the next function as input.\n",
    "    Args:\n",
    "        raw_input (Any): Any input, could be list, tuple, etc.\n",
    "    Other Parameters:\n",
    "        param1 (Callable): Any function with only one argument.\n",
    "        param2 (Callable): Any function with only one argument.\n",
    "        ...\n",
    "    Keyword Args:\n",
    "        key1 (Callable): Any function with one or more than one\n",
    "            arguments with arguments written as list.\n",
    "        key2 (Callable): Any function with one or more than one\n",
    "            arguments with arguments written as list.\n",
    "        ...\n",
    "    Returns:\n",
    "        Any: Any output as a result of the functions it goes through.\n",
    "    \"\"\"\n",
    "\n",
    "    # TODO: Needs more improvement for robustness.\n",
    "    # Currently it will only work for some cases.\n",
    "    output = raw_input\n",
    "\n",
    "    if functions:\n",
    "        for function in functions:\n",
    "            output = function(output)\n",
    "\n",
    "    if functions_with_args:\n",
    "        for function, args_list in functions_with_args.items():\n",
    "            output = eval(function)(output, *args_list)\n",
    "\n",
    "    return output"
   ]
  },
  {
   "cell_type": "code",
   "execution_count": null,
   "id": "8cd471d6",
   "metadata": {},
   "outputs": [],
   "source": [
    "def remove_possessive(text: str) -> str:\n",
    "    pattern = r\"(\\'s)\"\n",
    "    return re.sub(pattern, \"\", text).strip()\n",
    "\n",
    "\n",
    "def remove_punctuations(text: str) -> str:\n",
    "    pattern = r\"[^\\w\\s]\"\n",
    "    return re.sub(pattern, \"\", text).strip()\n",
    "\n",
    "\n",
    "def remove_doublespace(text: str) -> str:\n",
    "    pattern = r\" +\"\n",
    "    return re.sub(pattern, \" \", text).strip()\n",
    "\n",
    "\n",
    "def remove_single(text: str) -> str:\n",
    "    pattern = r\"\\b[a-zA-Z]\\b\"\n",
    "    return re.sub(pattern, \"\", text)\n",
    "\n",
    "\n",
    "def remove_specific(text: str) -> str:\n",
    "    pattern = r\"nt\"\n",
    "    return re.sub(pattern, \"\", text)\n",
    "\n",
    "\n",
    "def clean_text(text: str) -> str:\n",
    "    return pipe(\n",
    "        text,\n",
    "        remove_punctuations,\n",
    "        remove_single,\n",
    "        remove_specific,\n",
    "        remove_doublespace\n",
    "    )"
   ]
  },
  {
   "cell_type": "code",
   "execution_count": null,
   "id": "2249b092",
   "metadata": {},
   "outputs": [],
   "source": [
    "sample_text = ' '.join(sample).strip()"
   ]
  },
  {
   "cell_type": "code",
   "execution_count": null,
   "id": "5ad7c03b",
   "metadata": {},
   "outputs": [],
   "source": [
    "cleaned_text = clean_text(sample_text)"
   ]
  },
  {
   "cell_type": "code",
   "execution_count": null,
   "id": "699ec40f",
   "metadata": {},
   "outputs": [],
   "source": [
    "freq = nltk.FreqDist(cleaned_text.split())"
   ]
  },
  {
   "cell_type": "code",
   "execution_count": null,
   "id": "879aa5f7",
   "metadata": {},
   "outputs": [],
   "source": [
    "freq.most_common(20)"
   ]
  },
  {
   "cell_type": "code",
   "execution_count": null,
   "id": "6bba9de1",
   "metadata": {},
   "outputs": [],
   "source": [
    "from nltk.stem import WordNetLemmatizer \n",
    "lemmatizer = WordNetLemmatizer()"
   ]
  },
  {
   "cell_type": "code",
   "execution_count": null,
   "id": "422f4676",
   "metadata": {},
   "outputs": [],
   "source": [
    "adjectives = [x for (x,y) in nltk.pos_tag(cleaned_text.split()) if y in ('JJ')]"
   ]
  },
  {
   "cell_type": "code",
   "execution_count": null,
   "id": "43bd4cc5",
   "metadata": {},
   "outputs": [],
   "source": [
    "from wordcloud import WordCloud\n",
    "from PIL import Image\n",
    "import numpy as np\n",
    "import matplotlib.pyplot as plt\n",
    "\n",
    "image_path = Path.joinpath(Path.cwd().parent, \"data/images\", \"apple-logo-2.webp\")\n",
    "img = Image.open(image_path)\n",
    "img_array = np.asarray(img)\n",
    "\n",
    "# Create and generate a word cloud image:\n",
    "wordcloud = WordCloud(\n",
    "    mode='RGBA', \n",
    "    mask=img_array, \n",
    "    background_color=None,\n",
    "    width=1000,\n",
    "    height=1000\n",
    ").generate(' '.join(adjectives))\n",
    "\n",
    "# Display the generated image:\n",
    "plt.imshow(wordcloud, interpolation='bilinear')\n",
    "plt.axis(\"off\")\n",
    "plt.show()\n",
    "wordcloud.to_file('wordcloud.png')\n"
   ]
  },
  {
   "cell_type": "code",
   "execution_count": null,
   "id": "e51f47a9",
   "metadata": {},
   "outputs": [],
   "source": [
    "image_path = Path.joinpath(Path.cwd().parent, \"data/images\", \"apple-logo-2.webp\")"
   ]
  },
  {
   "cell_type": "code",
   "execution_count": null,
   "id": "765dec42",
   "metadata": {},
   "outputs": [],
   "source": [
    "import spacy\n",
    "import pandas as pd\n",
    "import scattertext as st\n",
    "\n",
    "df = pd.read_csv(\"Tweets.csv\")"
   ]
  },
  {
   "cell_type": "code",
   "execution_count": null,
   "id": "5af73f61",
   "metadata": {},
   "outputs": [],
   "source": [
    "nlp = spacy.load(\"en_core_web_sm\")"
   ]
  },
  {
   "cell_type": "code",
   "execution_count": null,
   "id": "a50a7657",
   "metadata": {},
   "outputs": [],
   "source": [
    "corpus = st.CorpusFromPandas(\n",
    "    df, \n",
    "    category_col='airline_sentiment',\n",
    "    text_col='text',\n",
    "    nlp=nlp\n",
    ").build()"
   ]
  },
  {
   "cell_type": "code",
   "execution_count": null,
   "id": "fb99903f",
   "metadata": {},
   "outputs": [],
   "source": [
    "html = st.produce_scattertext_explorer(\n",
    "    corpus,\n",
    "    category='negative',\n",
    "    category_name='Negative',\n",
    "    not_category_name='Positive',\n",
    "    width_in_pixels=1000,\n",
    "    metadata=corpus.get_df()['name']\n",
    ")"
   ]
  },
  {
   "cell_type": "code",
   "execution_count": null,
   "id": "9bdf168a",
   "metadata": {},
   "outputs": [],
   "source": [
    "open(\"Twitter_Sentiment.html\", 'wb').write(html.encode('utf-8'))"
   ]
  },
  {
   "cell_type": "code",
   "execution_count": null,
   "id": "be755a19",
   "metadata": {},
   "outputs": [],
   "source": [
    "import spacy\n",
    "import scattertext as st\n",
    "from scattertext import SampleCorpora, PhraseMachinePhrases, dense_rank, RankDifference, AssociationCompactor, produce_scattertext_explorer\n",
    "from scattertext.CorpusFromPandas import CorpusFromPandas\n",
    "\n",
    "corpus = CorpusFromPandas(\n",
    "#     SampleCorpora.ConventionData2012.get_data(),\n",
    "    df_copy,\n",
    "    category_col='sentiment',\n",
    "    text_col='content',\n",
    "    feats_from_spacy_doc=PhraseMachinePhrases(),\n",
    "    nlp=spacy.load('en_core_web_sm')\n",
    ").build().compact(AssociationCompactor(4000))\n",
    "\n",
    "html = produce_scattertext_explorer(\n",
    "    corpus,\n",
    "    category='negative',\n",
    "    category_name='Negative',\n",
    "    not_category_name='Positive',\n",
    "    minimum_term_frequency=0, \n",
    "    pmi_threshold_coefficient=0,\n",
    "    transform=st.dense_rank,\n",
    "#     metadata=df_copy['author'],\n",
    "    term_scorer=st.RankDifference(),\n",
    "    width_in_pixels=1000\n",
    ")"
   ]
  },
  {
   "cell_type": "code",
   "execution_count": null,
   "id": "1ec024f6",
   "metadata": {},
   "outputs": [],
   "source": [
    "with open('keychron_sentiment_analysis.html', 'w') as f:\n",
    "    f.write(html)"
   ]
  },
  {
   "cell_type": "code",
   "execution_count": null,
   "id": "45a160c8",
   "metadata": {},
   "outputs": [],
   "source": [
    "df_copy"
   ]
  },
  {
   "cell_type": "code",
   "execution_count": null,
   "id": "d2130895",
   "metadata": {},
   "outputs": [],
   "source": [
    "from math import pi\n",
    "import numpy as np\n",
    "from matplotlib.patches import Patch\n",
    "from matplotlib.lines import Line2D\n",
    "\n",
    "fig, ax = plt.subplots(figsize=(10, 10))\n",
    "ax = plt.subplot(projection='polar')\n",
    "data = [433, 93, 46]\n",
    "\n",
    "startangle = 0\n",
    "# colors = ['#4393E5', '#43BAE5', '#7AE6EA']\n",
    "colors = ['#6699CC', '#808080', '#800020']\n",
    "\n",
    "xs = [(i * pi * 2)/ 433 for i in data]\n",
    "\n",
    "ys = [-0.2, 1, 2.2]\n",
    "left = (startangle * pi * 2)/ 360 \n",
    "\n",
    "for i, x in enumerate(xs):\n",
    "    ax.barh(ys[i], x, left=left, height=1, color=colors[i])\n",
    "    ax.scatter(x+left, ys[i], s=350, color=colors[i], zorder=2)\n",
    "    ax.scatter(left, ys[i], s=350, color=colors[i], zorder=2)\n",
    "    \n",
    "plt.ylim(-4, 4)\n",
    "\n",
    "legend_elements = [\n",
    "    Line2D([0], [0], marker='o', color='w', label='Positive, 76.0%', markerfacecolor='#6699CC', markersize=10),\n",
    "    Line2D([0], [0], marker='o', color='w', label='Neutral, 16.0%', markerfacecolor='#808080', markersize=10),\n",
    "    Line2D([0], [0], marker='o', color='w', label='Negative, 8.0%', markerfacecolor='#800020', markersize=10)\n",
    "]\n",
    "ax.legend(handles=legend_elements, loc='center', frameon=False)\n",
    "\n",
    "plt.xticks([])\n",
    "plt.yticks([])\n",
    "ax.spines.clear()\n",
    "\n",
    "plt.show()"
   ]
  },
  {
   "cell_type": "code",
   "execution_count": null,
   "id": "8c358f45",
   "metadata": {},
   "outputs": [],
   "source": [
    "from typing import Union\n",
    "\n",
    "def _percentage(value: Union[int, float], total: Union[int, float]) -> float:\n",
    "    return round(value / total, 2) * 100\n",
    "\n",
    "def to_percentage(data: list[Union[int, float]]) -> list[float]:\n",
    "    total = sum(data)\n",
    "    total_list = [total] * len(data)\n",
    "    return list(\n",
    "        map(lambda value, total: _percentage(value, total), data, total_list)\n",
    "    )"
   ]
  },
  {
   "cell_type": "code",
   "execution_count": null,
   "id": "8555cee2",
   "metadata": {},
   "outputs": [],
   "source": []
  }
 ],
 "metadata": {
  "kernelspec": {
   "display_name": "keychron-reviews-analysis",
   "language": "python",
   "name": "keychron-reviews-analysis"
  },
  "language_info": {
   "codemirror_mode": {
    "name": "ipython",
    "version": 3
   },
   "file_extension": ".py",
   "mimetype": "text/x-python",
   "name": "python",
   "nbconvert_exporter": "python",
   "pygments_lexer": "ipython3",
   "version": "3.9.7"
  }
 },
 "nbformat": 4,
 "nbformat_minor": 5
}
