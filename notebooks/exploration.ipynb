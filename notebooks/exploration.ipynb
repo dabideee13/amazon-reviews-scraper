{
 "cells": [
  {
   "cell_type": "code",
   "execution_count": 168,
   "id": "70c0f065",
   "metadata": {},
   "outputs": [],
   "source": [
    "import time\n",
    "import random\n",
    "from typing import Optional, List, Dict, Union, Any\n",
    "from itertools import chain\n",
    "from pathlib import Path\n",
    "\n",
    "from selectorlib import Extractor\n",
    "import requests\n",
    "import pandas as pd\n",
    "import plotly.express as px"
   ]
  },
  {
   "cell_type": "code",
   "execution_count": 2,
   "id": "08dda714",
   "metadata": {},
   "outputs": [],
   "source": [
    "extractor = Extractor.from_yaml_file('selectors.yml')"
   ]
  },
  {
   "cell_type": "code",
   "execution_count": 10,
   "id": "6094f8c3",
   "metadata": {},
   "outputs": [],
   "source": [
    "def scrape(url: str):\n",
    "    headers = {\n",
    "        'authority': 'www.amazon.com',\n",
    "        'pragma': 'no-cache',\n",
    "        'cache-control': 'no-cache',\n",
    "        'dnt': '1',\n",
    "        'upgrade-insecure-requests': '1',\n",
    "        'user-agent': 'Mozilla/5.0 (X11; CrOS x86_64 8172.45.0) AppleWebKit/537.36 (KHTML, like Gecko) Chrome/51.0.2704.64 Safari/537.36',\n",
    "        'accept': 'text/html,application/xhtml+xml,application/xml;q=0.9,image/webp,image/apng,*/*;q=0.8,application/signed-exchange;v=b3;q=0.9',\n",
    "        'sec-fetch-site': 'none',\n",
    "        'sec-fetch-mode': 'navigate',\n",
    "        'sec-fetch-dest': 'document',\n",
    "        'accept-language': 'en-GB,en-US;q=0.9,en;q=0.8',\n",
    "    }\n",
    "\n",
    "    # Download the page using requests\n",
    "    print(f\"Downloading {url}\")\n",
    "    r = requests.get(url, headers=headers)\n",
    "\n",
    "    # Simple check to check if page was blocked (Usually 503)\n",
    "    if r.status_code > 500:\n",
    "        if \"To discuss automated access to Amazon data please contact\" in r.text:\n",
    "            print(\"Page %s was blocked by Amazon. Please try using better proxies\\n\"%url)\n",
    "        else:\n",
    "            print(\"Page %s must have been blocked by Amazon as the status code was %d\"%(url,r.status_code))\n",
    "        return None\n",
    "\n",
    "    # Pass the HTML of the page and create\n",
    "    return extractor.extract(r.text)\n",
    "\n",
    "\n",
    "def crawl(url: str, n_pages: Optional[int] = None) -> List[Dict[str, str]]:\n",
    "    \n",
    "    if n_pages is None:\n",
    "        n_pages = float('inf')\n",
    "    \n",
    "    all_data = []\n",
    "    \n",
    "    counter = 0\n",
    "    while counter < n_pages:\n",
    "            \n",
    "        try:\n",
    "            data = scrape(url)\n",
    "            time.sleep(random.randint(2, 10))\n",
    "            all_data.append(data)\n",
    "\n",
    "            pre_url = \"https://www.amazon.com\"\n",
    "            url = pre_url + data['next_page']\n",
    "\n",
    "            counter += 1\n",
    "\n",
    "        except (KeyboardInterrupt, Exception):\n",
    "            break\n",
    "        \n",
    "    return all_data\n",
    "\n",
    "\n",
    "def format_reviews(data: List[Dict[str, str]]) -> pd.DataFrame:\n",
    "    all_reviews = [review['reviews'] for review in data]\n",
    "    return pd.DataFrame(list(chain(*all_reviews)))"
   ]
  },
  {
   "cell_type": "code",
   "execution_count": 4,
   "id": "46d19029",
   "metadata": {},
   "outputs": [],
   "source": [
    "URL = \"https://www.amazon.com/Keychron-Wireless-Bluetooth-Mechanical-Keyboard/product-reviews/B07YB32H52/ref=cm_cr_dp_d_show_all_btm?ie=UTF8&reviewerType=all_reviews\""
   ]
  },
  {
   "cell_type": "code",
   "execution_count": 5,
   "id": "179970ad",
   "metadata": {},
   "outputs": [
    {
     "name": "stdout",
     "output_type": "stream",
     "text": [
      "Downloading https://www.amazon.com/Keychron-Wireless-Bluetooth-Mechanical-Keyboard/product-reviews/B07YB32H52/ref=cm_cr_dp_d_show_all_btm?ie=UTF8&reviewerType=all_reviews\n",
      "Downloading https://www.amazon.com/Keychron-Wireless-Bluetooth-Mechanical-Keyboard/product-reviews/B07YB32H52/ref=cm_cr_arp_d_paging_btm_2?ie=UTF8&pageNumber=2&reviewerType=all_reviews\n",
      "Downloading https://www.amazon.com/Keychron-Wireless-Bluetooth-Mechanical-Keyboard/product-reviews/B07YB32H52/ref=cm_cr_arp_d_paging_btm_3?ie=UTF8&pageNumber=3&reviewerType=all_reviews\n",
      "Downloading https://www.amazon.com/Keychron-Wireless-Bluetooth-Mechanical-Keyboard/product-reviews/B07YB32H52/ref=cm_cr_arp_d_paging_btm_4?ie=UTF8&pageNumber=4&reviewerType=all_reviews\n",
      "Downloading https://www.amazon.com/Keychron-Wireless-Bluetooth-Mechanical-Keyboard/product-reviews/B07YB32H52/ref=cm_cr_arp_d_paging_btm_5?ie=UTF8&pageNumber=5&reviewerType=all_reviews\n",
      "Downloading https://www.amazon.com/Keychron-Wireless-Bluetooth-Mechanical-Keyboard/product-reviews/B07YB32H52/ref=cm_cr_arp_d_paging_btm_6?ie=UTF8&pageNumber=6&reviewerType=all_reviews\n",
      "Downloading https://www.amazon.com/Keychron-Wireless-Bluetooth-Mechanical-Keyboard/product-reviews/B07YB32H52/ref=cm_cr_arp_d_paging_btm_7?ie=UTF8&pageNumber=7&reviewerType=all_reviews\n",
      "Downloading https://www.amazon.com/Keychron-Wireless-Bluetooth-Mechanical-Keyboard/product-reviews/B07YB32H52/ref=cm_cr_arp_d_paging_btm_8?ie=UTF8&pageNumber=8&reviewerType=all_reviews\n",
      "Downloading https://www.amazon.com/Keychron-Wireless-Bluetooth-Mechanical-Keyboard/product-reviews/B07YB32H52/ref=cm_cr_arp_d_paging_btm_9?ie=UTF8&pageNumber=9&reviewerType=all_reviews\n",
      "Downloading https://www.amazon.com/Keychron-Wireless-Bluetooth-Mechanical-Keyboard/product-reviews/B07YB32H52/ref=cm_cr_arp_d_paging_btm_10?ie=UTF8&pageNumber=10&reviewerType=all_reviews\n",
      "Downloading https://www.amazon.com/Keychron-Wireless-Bluetooth-Mechanical-Keyboard/product-reviews/B07YB32H52/ref=cm_cr_arp_d_paging_btm_11?ie=UTF8&pageNumber=11&reviewerType=all_reviews\n",
      "Downloading https://www.amazon.com/Keychron-Wireless-Bluetooth-Mechanical-Keyboard/product-reviews/B07YB32H52/ref=cm_cr_arp_d_paging_btm_12?ie=UTF8&pageNumber=12&reviewerType=all_reviews\n",
      "Downloading https://www.amazon.com/Keychron-Wireless-Bluetooth-Mechanical-Keyboard/product-reviews/B07YB32H52/ref=cm_cr_arp_d_paging_btm_13?ie=UTF8&pageNumber=13&reviewerType=all_reviews\n",
      "Downloading https://www.amazon.com/Keychron-Wireless-Bluetooth-Mechanical-Keyboard/product-reviews/B07YB32H52/ref=cm_cr_arp_d_paging_btm_14?ie=UTF8&pageNumber=14&reviewerType=all_reviews\n",
      "Downloading https://www.amazon.com/Keychron-Wireless-Bluetooth-Mechanical-Keyboard/product-reviews/B07YB32H52/ref=cm_cr_arp_d_paging_btm_15?ie=UTF8&pageNumber=15&reviewerType=all_reviews\n",
      "Downloading https://www.amazon.com/Keychron-Wireless-Bluetooth-Mechanical-Keyboard/product-reviews/B07YB32H52/ref=cm_cr_arp_d_paging_btm_16?ie=UTF8&pageNumber=16&reviewerType=all_reviews\n",
      "Downloading https://www.amazon.com/Keychron-Wireless-Bluetooth-Mechanical-Keyboard/product-reviews/B07YB32H52/ref=cm_cr_arp_d_paging_btm_17?ie=UTF8&pageNumber=17&reviewerType=all_reviews\n",
      "Downloading https://www.amazon.com/Keychron-Wireless-Bluetooth-Mechanical-Keyboard/product-reviews/B07YB32H52/ref=cm_cr_arp_d_paging_btm_18?ie=UTF8&pageNumber=18&reviewerType=all_reviews\n",
      "Downloading https://www.amazon.com/Keychron-Wireless-Bluetooth-Mechanical-Keyboard/product-reviews/B07YB32H52/ref=cm_cr_arp_d_paging_btm_19?ie=UTF8&pageNumber=19&reviewerType=all_reviews\n",
      "Downloading https://www.amazon.com/Keychron-Wireless-Bluetooth-Mechanical-Keyboard/product-reviews/B07YB32H52/ref=cm_cr_arp_d_paging_btm_20?ie=UTF8&pageNumber=20&reviewerType=all_reviews\n",
      "Downloading https://www.amazon.com/Keychron-Wireless-Bluetooth-Mechanical-Keyboard/product-reviews/B07YB32H52/ref=cm_cr_arp_d_paging_btm_21?ie=UTF8&pageNumber=21&reviewerType=all_reviews\n",
      "Downloading https://www.amazon.com/Keychron-Wireless-Bluetooth-Mechanical-Keyboard/product-reviews/B07YB32H52/ref=cm_cr_arp_d_paging_btm_22?ie=UTF8&pageNumber=22&reviewerType=all_reviews\n",
      "Downloading https://www.amazon.com/Keychron-Wireless-Bluetooth-Mechanical-Keyboard/product-reviews/B07YB32H52/ref=cm_cr_arp_d_paging_btm_23?ie=UTF8&pageNumber=23&reviewerType=all_reviews\n",
      "Downloading https://www.amazon.com/Keychron-Wireless-Bluetooth-Mechanical-Keyboard/product-reviews/B07YB32H52/ref=cm_cr_arp_d_paging_btm_24?ie=UTF8&pageNumber=24&reviewerType=all_reviews\n",
      "Downloading https://www.amazon.com/Keychron-Wireless-Bluetooth-Mechanical-Keyboard/product-reviews/B07YB32H52/ref=cm_cr_arp_d_paging_btm_25?ie=UTF8&pageNumber=25&reviewerType=all_reviews\n",
      "Downloading https://www.amazon.com/Keychron-Wireless-Bluetooth-Mechanical-Keyboard/product-reviews/B07YB32H52/ref=cm_cr_arp_d_paging_btm_26?ie=UTF8&pageNumber=26&reviewerType=all_reviews\n",
      "Downloading https://www.amazon.com/Keychron-Wireless-Bluetooth-Mechanical-Keyboard/product-reviews/B07YB32H52/ref=cm_cr_arp_d_paging_btm_27?ie=UTF8&pageNumber=27&reviewerType=all_reviews\n",
      "Downloading https://www.amazon.com/Keychron-Wireless-Bluetooth-Mechanical-Keyboard/product-reviews/B07YB32H52/ref=cm_cr_arp_d_paging_btm_28?ie=UTF8&pageNumber=28&reviewerType=all_reviews\n",
      "Downloading https://www.amazon.com/Keychron-Wireless-Bluetooth-Mechanical-Keyboard/product-reviews/B07YB32H52/ref=cm_cr_arp_d_paging_btm_29?ie=UTF8&pageNumber=29&reviewerType=all_reviews\n",
      "Downloading https://www.amazon.com/Keychron-Wireless-Bluetooth-Mechanical-Keyboard/product-reviews/B07YB32H52/ref=cm_cr_arp_d_paging_btm_30?ie=UTF8&pageNumber=30&reviewerType=all_reviews\n",
      "Downloading https://www.amazon.com/Keychron-Wireless-Bluetooth-Mechanical-Keyboard/product-reviews/B07YB32H52/ref=cm_cr_arp_d_paging_btm_31?ie=UTF8&pageNumber=31&reviewerType=all_reviews\n",
      "Downloading https://www.amazon.com/Keychron-Wireless-Bluetooth-Mechanical-Keyboard/product-reviews/B07YB32H52/ref=cm_cr_arp_d_paging_btm_32?ie=UTF8&pageNumber=32&reviewerType=all_reviews\n",
      "Downloading https://www.amazon.com/Keychron-Wireless-Bluetooth-Mechanical-Keyboard/product-reviews/B07YB32H52/ref=cm_cr_arp_d_paging_btm_33?ie=UTF8&pageNumber=33&reviewerType=all_reviews\n",
      "Downloading https://www.amazon.com/Keychron-Wireless-Bluetooth-Mechanical-Keyboard/product-reviews/B07YB32H52/ref=cm_cr_arp_d_paging_btm_34?ie=UTF8&pageNumber=34&reviewerType=all_reviews\n",
      "Downloading https://www.amazon.com/Keychron-Wireless-Bluetooth-Mechanical-Keyboard/product-reviews/B07YB32H52/ref=cm_cr_arp_d_paging_btm_35?ie=UTF8&pageNumber=35&reviewerType=all_reviews\n",
      "Downloading https://www.amazon.com/Keychron-Wireless-Bluetooth-Mechanical-Keyboard/product-reviews/B07YB32H52/ref=cm_cr_arp_d_paging_btm_36?ie=UTF8&pageNumber=36&reviewerType=all_reviews\n",
      "Downloading https://www.amazon.com/Keychron-Wireless-Bluetooth-Mechanical-Keyboard/product-reviews/B07YB32H52/ref=cm_cr_arp_d_paging_btm_37?ie=UTF8&pageNumber=37&reviewerType=all_reviews\n",
      "Downloading https://www.amazon.com/Keychron-Wireless-Bluetooth-Mechanical-Keyboard/product-reviews/B07YB32H52/ref=cm_cr_arp_d_paging_btm_38?ie=UTF8&pageNumber=38&reviewerType=all_reviews\n",
      "Downloading https://www.amazon.com/Keychron-Wireless-Bluetooth-Mechanical-Keyboard/product-reviews/B07YB32H52/ref=cm_cr_arp_d_paging_btm_39?ie=UTF8&pageNumber=39&reviewerType=all_reviews\n",
      "Downloading https://www.amazon.com/Keychron-Wireless-Bluetooth-Mechanical-Keyboard/product-reviews/B07YB32H52/ref=cm_cr_arp_d_paging_btm_40?ie=UTF8&pageNumber=40&reviewerType=all_reviews\n",
      "Downloading https://www.amazon.com/Keychron-Wireless-Bluetooth-Mechanical-Keyboard/product-reviews/B07YB32H52/ref=cm_cr_arp_d_paging_btm_41?ie=UTF8&pageNumber=41&reviewerType=all_reviews\n",
      "Downloading https://www.amazon.com/Keychron-Wireless-Bluetooth-Mechanical-Keyboard/product-reviews/B07YB32H52/ref=cm_cr_arp_d_paging_btm_42?ie=UTF8&pageNumber=42&reviewerType=all_reviews\n",
      "Downloading https://www.amazon.com/Keychron-Wireless-Bluetooth-Mechanical-Keyboard/product-reviews/B07YB32H52/ref=cm_cr_arp_d_paging_btm_43?ie=UTF8&pageNumber=43&reviewerType=all_reviews\n",
      "Downloading https://www.amazon.com/Keychron-Wireless-Bluetooth-Mechanical-Keyboard/product-reviews/B07YB32H52/ref=cm_cr_arp_d_paging_btm_44?ie=UTF8&pageNumber=44&reviewerType=all_reviews\n"
     ]
    },
    {
     "name": "stdout",
     "output_type": "stream",
     "text": [
      "Downloading https://www.amazon.com/Keychron-Wireless-Bluetooth-Mechanical-Keyboard/product-reviews/B07YB32H52/ref=cm_cr_arp_d_paging_btm_45?ie=UTF8&pageNumber=45&reviewerType=all_reviews\n",
      "Downloading https://www.amazon.com/Keychron-Wireless-Bluetooth-Mechanical-Keyboard/product-reviews/B07YB32H52/ref=cm_cr_arp_d_paging_btm_46?ie=UTF8&pageNumber=46&reviewerType=all_reviews\n",
      "Downloading https://www.amazon.com/Keychron-Wireless-Bluetooth-Mechanical-Keyboard/product-reviews/B07YB32H52/ref=cm_cr_arp_d_paging_btm_47?ie=UTF8&pageNumber=47&reviewerType=all_reviews\n",
      "Downloading https://www.amazon.com/Keychron-Wireless-Bluetooth-Mechanical-Keyboard/product-reviews/B07YB32H52/ref=cm_cr_arp_d_paging_btm_48?ie=UTF8&pageNumber=48&reviewerType=all_reviews\n",
      "Downloading https://www.amazon.com/Keychron-Wireless-Bluetooth-Mechanical-Keyboard/product-reviews/B07YB32H52/ref=cm_cr_arp_d_paging_btm_49?ie=UTF8&pageNumber=49&reviewerType=all_reviews\n",
      "Downloading https://www.amazon.com/Keychron-Wireless-Bluetooth-Mechanical-Keyboard/product-reviews/B07YB32H52/ref=cm_cr_arp_d_paging_btm_50?ie=UTF8&pageNumber=50&reviewerType=all_reviews\n",
      "Downloading https://www.amazon.com/Keychron-Wireless-Bluetooth-Mechanical-Keyboard/product-reviews/B07YB32H52/ref=cm_cr_arp_d_paging_btm_51?ie=UTF8&pageNumber=51&reviewerType=all_reviews\n",
      "Downloading https://www.amazon.com/Keychron-Wireless-Bluetooth-Mechanical-Keyboard/product-reviews/B07YB32H52/ref=cm_cr_arp_d_paging_btm_52?ie=UTF8&pageNumber=52&reviewerType=all_reviews\n",
      "Downloading https://www.amazon.com/Keychron-Wireless-Bluetooth-Mechanical-Keyboard/product-reviews/B07YB32H52/ref=cm_cr_arp_d_paging_btm_53?ie=UTF8&pageNumber=53&reviewerType=all_reviews\n",
      "Downloading https://www.amazon.com/Keychron-Wireless-Bluetooth-Mechanical-Keyboard/product-reviews/B07YB32H52/ref=cm_cr_arp_d_paging_btm_54?ie=UTF8&pageNumber=54&reviewerType=all_reviews\n",
      "Downloading https://www.amazon.com/Keychron-Wireless-Bluetooth-Mechanical-Keyboard/product-reviews/B07YB32H52/ref=cm_cr_arp_d_paging_btm_55?ie=UTF8&pageNumber=55&reviewerType=all_reviews\n",
      "Downloading https://www.amazon.com/Keychron-Wireless-Bluetooth-Mechanical-Keyboard/product-reviews/B07YB32H52/ref=cm_cr_arp_d_paging_btm_56?ie=UTF8&pageNumber=56&reviewerType=all_reviews\n",
      "Downloading https://www.amazon.com/Keychron-Wireless-Bluetooth-Mechanical-Keyboard/product-reviews/B07YB32H52/ref=cm_cr_arp_d_paging_btm_57?ie=UTF8&pageNumber=57&reviewerType=all_reviews\n",
      "Downloading https://www.amazon.com/Keychron-Wireless-Bluetooth-Mechanical-Keyboard/product-reviews/B07YB32H52/ref=cm_cr_arp_d_paging_btm_58?ie=UTF8&pageNumber=58&reviewerType=all_reviews\n"
     ]
    }
   ],
   "source": [
    "data = crawl(URL)"
   ]
  },
  {
   "cell_type": "code",
   "execution_count": 11,
   "id": "a1c6ac03",
   "metadata": {},
   "outputs": [],
   "source": [
    "df = format_reviews(data)"
   ]
  },
  {
   "cell_type": "code",
   "execution_count": 18,
   "id": "feaf4d5b",
   "metadata": {},
   "outputs": [],
   "source": [
    "df.to_csv('keychron_K2_reviews.csv')"
   ]
  },
  {
   "cell_type": "code",
   "execution_count": 16,
   "id": "da55ce1a",
   "metadata": {},
   "outputs": [
    {
     "data": {
      "text/plain": [
       "'Keychron K2 Wireless Bluetooth/USB Wired Gaming Mechanical Keyboard, Compact 84 Keys RGB LED Backlit N-Key Rollover Aluminum Frame for Mac Windows, Gateron Brown Switch, Version 2'"
      ]
     },
     "execution_count": 16,
     "metadata": {},
     "output_type": "execute_result"
    }
   ],
   "source": [
    "data[0]['product_title']"
   ]
  },
  {
   "cell_type": "code",
   "execution_count": 17,
   "id": "6b3e307e",
   "metadata": {},
   "outputs": [
    {
     "data": {
      "text/html": [
       "<div>\n",
       "<style scoped>\n",
       "    .dataframe tbody tr th:only-of-type {\n",
       "        vertical-align: middle;\n",
       "    }\n",
       "\n",
       "    .dataframe tbody tr th {\n",
       "        vertical-align: top;\n",
       "    }\n",
       "\n",
       "    .dataframe thead th {\n",
       "        text-align: right;\n",
       "    }\n",
       "</style>\n",
       "<table border=\"1\" class=\"dataframe\">\n",
       "  <thead>\n",
       "    <tr style=\"text-align: right;\">\n",
       "      <th></th>\n",
       "      <th>title</th>\n",
       "      <th>content</th>\n",
       "      <th>date</th>\n",
       "      <th>variant</th>\n",
       "      <th>images</th>\n",
       "      <th>verified</th>\n",
       "      <th>author</th>\n",
       "      <th>rating</th>\n",
       "    </tr>\n",
       "  </thead>\n",
       "  <tbody>\n",
       "    <tr>\n",
       "      <th>0</th>\n",
       "      <td>This is the best compromise I can find</td>\n",
       "      <td>First off, unlike the other review currently u...</td>\n",
       "      <td>Reviewed in the United States on September 23,...</td>\n",
       "      <td>None</td>\n",
       "      <td>[https://images-na.ssl-images-amazon.com/image...</td>\n",
       "      <td>Verified Purchase</td>\n",
       "      <td>Dan</td>\n",
       "      <td>4.0 out of 5 stars</td>\n",
       "    </tr>\n",
       "    <tr>\n",
       "      <th>1</th>\n",
       "      <td>better than Gateron Brown -</td>\n",
       "      <td>Althgouh still prone to typos. I am goign to w...</td>\n",
       "      <td>Reviewed in the United States on September 20,...</td>\n",
       "      <td>None</td>\n",
       "      <td>None</td>\n",
       "      <td>Verified Purchase</td>\n",
       "      <td>Isra Ignateous</td>\n",
       "      <td>4.0 out of 5 stars</td>\n",
       "    </tr>\n",
       "    <tr>\n",
       "      <th>2</th>\n",
       "      <td>OK for the price, but not \"the one\"</td>\n",
       "      <td>This keyboard has a lot to offer in a competit...</td>\n",
       "      <td>Reviewed in the United States on January 6, 2020</td>\n",
       "      <td>Color: Gateron Red Switch v2</td>\n",
       "      <td>None</td>\n",
       "      <td>Verified Purchase</td>\n",
       "      <td>Carl</td>\n",
       "      <td>3.0 out of 5 stars</td>\n",
       "    </tr>\n",
       "    <tr>\n",
       "      <th>3</th>\n",
       "      <td>Simple... IT'S AMAZING!</td>\n",
       "      <td>Well, there's not to much reviews about this k...</td>\n",
       "      <td>Reviewed in the United States on September 25,...</td>\n",
       "      <td>None</td>\n",
       "      <td>[https://images-na.ssl-images-amazon.com/image...</td>\n",
       "      <td>Verified Purchase</td>\n",
       "      <td>Arturo</td>\n",
       "      <td>5.0 out of 5 stars</td>\n",
       "    </tr>\n",
       "    <tr>\n",
       "      <th>4</th>\n",
       "      <td>I was not expecting to fall in love with the k...</td>\n",
       "      <td>Here's the story from the beginning. When I wa...</td>\n",
       "      <td>Reviewed in the United States on May 21, 2020</td>\n",
       "      <td>None</td>\n",
       "      <td>None</td>\n",
       "      <td>Verified Purchase</td>\n",
       "      <td>Christ</td>\n",
       "      <td>5.0 out of 5 stars</td>\n",
       "    </tr>\n",
       "    <tr>\n",
       "      <th>...</th>\n",
       "      <td>...</td>\n",
       "      <td>...</td>\n",
       "      <td>...</td>\n",
       "      <td>...</td>\n",
       "      <td>...</td>\n",
       "      <td>...</td>\n",
       "      <td>...</td>\n",
       "      <td>...</td>\n",
       "    </tr>\n",
       "    <tr>\n",
       "      <th>568</th>\n",
       "      <td>None</td>\n",
       "      <td>Excelente teclado. El Bluetooth se conecta e i...</td>\n",
       "      <td>Reviewed in Mexico on October 15, 2020</td>\n",
       "      <td>Color: Gateron Red Switch v2</td>\n",
       "      <td>None</td>\n",
       "      <td>Verified Purchase</td>\n",
       "      <td>Edwin</td>\n",
       "      <td>None</td>\n",
       "    </tr>\n",
       "    <tr>\n",
       "      <th>569</th>\n",
       "      <td>None</td>\n",
       "      <td>1</td>\n",
       "      <td>Reviewed in Canada on July 23, 2020</td>\n",
       "      <td>Color: Gateron Red Switch v2</td>\n",
       "      <td>None</td>\n",
       "      <td>Verified Purchase</td>\n",
       "      <td>Miguel Wang</td>\n",
       "      <td>None</td>\n",
       "    </tr>\n",
       "    <tr>\n",
       "      <th>570</th>\n",
       "      <td>None</td>\n",
       "      <td>It's great. Not perfect, but great.</td>\n",
       "      <td>Reviewed in Australia on February 23, 2021</td>\n",
       "      <td>Color: Gateron Red Switch v2</td>\n",
       "      <td>None</td>\n",
       "      <td>Verified Purchase</td>\n",
       "      <td>Samuel Nielsen</td>\n",
       "      <td>None</td>\n",
       "    </tr>\n",
       "    <tr>\n",
       "      <th>571</th>\n",
       "      <td>None</td>\n",
       "      <td>Love it</td>\n",
       "      <td>Reviewed in Australia on August 15, 2020</td>\n",
       "      <td>Color: Gateron Brown Switch v2</td>\n",
       "      <td>None</td>\n",
       "      <td>Verified Purchase</td>\n",
       "      <td>wei cui</td>\n",
       "      <td>None</td>\n",
       "    </tr>\n",
       "    <tr>\n",
       "      <th>572</th>\n",
       "      <td>None</td>\n",
       "      <td></td>\n",
       "      <td>Reviewed in Australia on August 10, 2021</td>\n",
       "      <td>None</td>\n",
       "      <td>None</td>\n",
       "      <td>Verified Purchase</td>\n",
       "      <td>Ben Templeton</td>\n",
       "      <td>None</td>\n",
       "    </tr>\n",
       "  </tbody>\n",
       "</table>\n",
       "<p>573 rows × 8 columns</p>\n",
       "</div>"
      ],
      "text/plain": [
       "                                                 title  \\\n",
       "0               This is the best compromise I can find   \n",
       "1                          better than Gateron Brown -   \n",
       "2                  OK for the price, but not \"the one\"   \n",
       "3                              Simple... IT'S AMAZING!   \n",
       "4    I was not expecting to fall in love with the k...   \n",
       "..                                                 ...   \n",
       "568                                               None   \n",
       "569                                               None   \n",
       "570                                               None   \n",
       "571                                               None   \n",
       "572                                               None   \n",
       "\n",
       "                                               content  \\\n",
       "0    First off, unlike the other review currently u...   \n",
       "1    Althgouh still prone to typos. I am goign to w...   \n",
       "2    This keyboard has a lot to offer in a competit...   \n",
       "3    Well, there's not to much reviews about this k...   \n",
       "4    Here's the story from the beginning. When I wa...   \n",
       "..                                                 ...   \n",
       "568  Excelente teclado. El Bluetooth se conecta e i...   \n",
       "569                                                  1   \n",
       "570                It's great. Not perfect, but great.   \n",
       "571                                            Love it   \n",
       "572                                                      \n",
       "\n",
       "                                                  date  \\\n",
       "0    Reviewed in the United States on September 23,...   \n",
       "1    Reviewed in the United States on September 20,...   \n",
       "2     Reviewed in the United States on January 6, 2020   \n",
       "3    Reviewed in the United States on September 25,...   \n",
       "4        Reviewed in the United States on May 21, 2020   \n",
       "..                                                 ...   \n",
       "568             Reviewed in Mexico on October 15, 2020   \n",
       "569                Reviewed in Canada on July 23, 2020   \n",
       "570         Reviewed in Australia on February 23, 2021   \n",
       "571           Reviewed in Australia on August 15, 2020   \n",
       "572           Reviewed in Australia on August 10, 2021   \n",
       "\n",
       "                            variant  \\\n",
       "0                              None   \n",
       "1                              None   \n",
       "2      Color: Gateron Red Switch v2   \n",
       "3                              None   \n",
       "4                              None   \n",
       "..                              ...   \n",
       "568    Color: Gateron Red Switch v2   \n",
       "569    Color: Gateron Red Switch v2   \n",
       "570    Color: Gateron Red Switch v2   \n",
       "571  Color: Gateron Brown Switch v2   \n",
       "572                            None   \n",
       "\n",
       "                                                images           verified  \\\n",
       "0    [https://images-na.ssl-images-amazon.com/image...  Verified Purchase   \n",
       "1                                                 None  Verified Purchase   \n",
       "2                                                 None  Verified Purchase   \n",
       "3    [https://images-na.ssl-images-amazon.com/image...  Verified Purchase   \n",
       "4                                                 None  Verified Purchase   \n",
       "..                                                 ...                ...   \n",
       "568                                               None  Verified Purchase   \n",
       "569                                               None  Verified Purchase   \n",
       "570                                               None  Verified Purchase   \n",
       "571                                               None  Verified Purchase   \n",
       "572                                               None  Verified Purchase   \n",
       "\n",
       "             author              rating  \n",
       "0               Dan  4.0 out of 5 stars  \n",
       "1    Isra Ignateous  4.0 out of 5 stars  \n",
       "2              Carl  3.0 out of 5 stars  \n",
       "3            Arturo  5.0 out of 5 stars  \n",
       "4            Christ  5.0 out of 5 stars  \n",
       "..              ...                 ...  \n",
       "568           Edwin                None  \n",
       "569     Miguel Wang                None  \n",
       "570  Samuel Nielsen                None  \n",
       "571         wei cui                None  \n",
       "572   Ben Templeton                None  \n",
       "\n",
       "[573 rows x 8 columns]"
      ]
     },
     "execution_count": 17,
     "metadata": {},
     "output_type": "execute_result"
    }
   ],
   "source": [
    "df"
   ]
  },
  {
   "cell_type": "code",
   "execution_count": 43,
   "id": "e237c10b",
   "metadata": {},
   "outputs": [],
   "source": [
    "def format_rating(rating: str) -> Union[float, None]:\n",
    "    try:\n",
    "        rate = rating.split()[0]\n",
    "        return eval(rate)\n",
    "    except (AttributeError, IndexError):\n",
    "        pass"
   ]
  },
  {
   "cell_type": "code",
   "execution_count": 24,
   "id": "1eb9d37a",
   "metadata": {},
   "outputs": [],
   "source": [
    "df_copy = df.copy(deep=True)"
   ]
  },
  {
   "cell_type": "code",
   "execution_count": 46,
   "id": "ad97009a",
   "metadata": {},
   "outputs": [],
   "source": [
    "df_copy.rating = df_copy.rating.apply(format_rating)"
   ]
  },
  {
   "cell_type": "code",
   "execution_count": 47,
   "id": "e3c08296",
   "metadata": {},
   "outputs": [
    {
     "data": {
      "text/html": [
       "<div>\n",
       "<style scoped>\n",
       "    .dataframe tbody tr th:only-of-type {\n",
       "        vertical-align: middle;\n",
       "    }\n",
       "\n",
       "    .dataframe tbody tr th {\n",
       "        vertical-align: top;\n",
       "    }\n",
       "\n",
       "    .dataframe thead th {\n",
       "        text-align: right;\n",
       "    }\n",
       "</style>\n",
       "<table border=\"1\" class=\"dataframe\">\n",
       "  <thead>\n",
       "    <tr style=\"text-align: right;\">\n",
       "      <th></th>\n",
       "      <th>title</th>\n",
       "      <th>content</th>\n",
       "      <th>date</th>\n",
       "      <th>variant</th>\n",
       "      <th>images</th>\n",
       "      <th>verified</th>\n",
       "      <th>author</th>\n",
       "      <th>rating</th>\n",
       "    </tr>\n",
       "  </thead>\n",
       "  <tbody>\n",
       "    <tr>\n",
       "      <th>0</th>\n",
       "      <td>This is the best compromise I can find</td>\n",
       "      <td>First off, unlike the other review currently u...</td>\n",
       "      <td>Reviewed in the United States on September 23,...</td>\n",
       "      <td>None</td>\n",
       "      <td>[https://images-na.ssl-images-amazon.com/image...</td>\n",
       "      <td>Verified Purchase</td>\n",
       "      <td>Dan</td>\n",
       "      <td>4.0</td>\n",
       "    </tr>\n",
       "    <tr>\n",
       "      <th>1</th>\n",
       "      <td>better than Gateron Brown -</td>\n",
       "      <td>Althgouh still prone to typos. I am goign to w...</td>\n",
       "      <td>Reviewed in the United States on September 20,...</td>\n",
       "      <td>None</td>\n",
       "      <td>None</td>\n",
       "      <td>Verified Purchase</td>\n",
       "      <td>Isra Ignateous</td>\n",
       "      <td>4.0</td>\n",
       "    </tr>\n",
       "    <tr>\n",
       "      <th>2</th>\n",
       "      <td>OK for the price, but not \"the one\"</td>\n",
       "      <td>This keyboard has a lot to offer in a competit...</td>\n",
       "      <td>Reviewed in the United States on January 6, 2020</td>\n",
       "      <td>Color: Gateron Red Switch v2</td>\n",
       "      <td>None</td>\n",
       "      <td>Verified Purchase</td>\n",
       "      <td>Carl</td>\n",
       "      <td>3.0</td>\n",
       "    </tr>\n",
       "    <tr>\n",
       "      <th>3</th>\n",
       "      <td>Simple... IT'S AMAZING!</td>\n",
       "      <td>Well, there's not to much reviews about this k...</td>\n",
       "      <td>Reviewed in the United States on September 25,...</td>\n",
       "      <td>None</td>\n",
       "      <td>[https://images-na.ssl-images-amazon.com/image...</td>\n",
       "      <td>Verified Purchase</td>\n",
       "      <td>Arturo</td>\n",
       "      <td>5.0</td>\n",
       "    </tr>\n",
       "    <tr>\n",
       "      <th>4</th>\n",
       "      <td>I was not expecting to fall in love with the k...</td>\n",
       "      <td>Here's the story from the beginning. When I wa...</td>\n",
       "      <td>Reviewed in the United States on May 21, 2020</td>\n",
       "      <td>None</td>\n",
       "      <td>None</td>\n",
       "      <td>Verified Purchase</td>\n",
       "      <td>Christ</td>\n",
       "      <td>5.0</td>\n",
       "    </tr>\n",
       "    <tr>\n",
       "      <th>...</th>\n",
       "      <td>...</td>\n",
       "      <td>...</td>\n",
       "      <td>...</td>\n",
       "      <td>...</td>\n",
       "      <td>...</td>\n",
       "      <td>...</td>\n",
       "      <td>...</td>\n",
       "      <td>...</td>\n",
       "    </tr>\n",
       "    <tr>\n",
       "      <th>568</th>\n",
       "      <td>None</td>\n",
       "      <td>Excelente teclado. El Bluetooth se conecta e i...</td>\n",
       "      <td>Reviewed in Mexico on October 15, 2020</td>\n",
       "      <td>Color: Gateron Red Switch v2</td>\n",
       "      <td>None</td>\n",
       "      <td>Verified Purchase</td>\n",
       "      <td>Edwin</td>\n",
       "      <td>NaN</td>\n",
       "    </tr>\n",
       "    <tr>\n",
       "      <th>569</th>\n",
       "      <td>None</td>\n",
       "      <td>1</td>\n",
       "      <td>Reviewed in Canada on July 23, 2020</td>\n",
       "      <td>Color: Gateron Red Switch v2</td>\n",
       "      <td>None</td>\n",
       "      <td>Verified Purchase</td>\n",
       "      <td>Miguel Wang</td>\n",
       "      <td>NaN</td>\n",
       "    </tr>\n",
       "    <tr>\n",
       "      <th>570</th>\n",
       "      <td>None</td>\n",
       "      <td>It's great. Not perfect, but great.</td>\n",
       "      <td>Reviewed in Australia on February 23, 2021</td>\n",
       "      <td>Color: Gateron Red Switch v2</td>\n",
       "      <td>None</td>\n",
       "      <td>Verified Purchase</td>\n",
       "      <td>Samuel Nielsen</td>\n",
       "      <td>NaN</td>\n",
       "    </tr>\n",
       "    <tr>\n",
       "      <th>571</th>\n",
       "      <td>None</td>\n",
       "      <td>Love it</td>\n",
       "      <td>Reviewed in Australia on August 15, 2020</td>\n",
       "      <td>Color: Gateron Brown Switch v2</td>\n",
       "      <td>None</td>\n",
       "      <td>Verified Purchase</td>\n",
       "      <td>wei cui</td>\n",
       "      <td>NaN</td>\n",
       "    </tr>\n",
       "    <tr>\n",
       "      <th>572</th>\n",
       "      <td>None</td>\n",
       "      <td></td>\n",
       "      <td>Reviewed in Australia on August 10, 2021</td>\n",
       "      <td>None</td>\n",
       "      <td>None</td>\n",
       "      <td>Verified Purchase</td>\n",
       "      <td>Ben Templeton</td>\n",
       "      <td>NaN</td>\n",
       "    </tr>\n",
       "  </tbody>\n",
       "</table>\n",
       "<p>573 rows × 8 columns</p>\n",
       "</div>"
      ],
      "text/plain": [
       "                                                 title  \\\n",
       "0               This is the best compromise I can find   \n",
       "1                          better than Gateron Brown -   \n",
       "2                  OK for the price, but not \"the one\"   \n",
       "3                              Simple... IT'S AMAZING!   \n",
       "4    I was not expecting to fall in love with the k...   \n",
       "..                                                 ...   \n",
       "568                                               None   \n",
       "569                                               None   \n",
       "570                                               None   \n",
       "571                                               None   \n",
       "572                                               None   \n",
       "\n",
       "                                               content  \\\n",
       "0    First off, unlike the other review currently u...   \n",
       "1    Althgouh still prone to typos. I am goign to w...   \n",
       "2    This keyboard has a lot to offer in a competit...   \n",
       "3    Well, there's not to much reviews about this k...   \n",
       "4    Here's the story from the beginning. When I wa...   \n",
       "..                                                 ...   \n",
       "568  Excelente teclado. El Bluetooth se conecta e i...   \n",
       "569                                                  1   \n",
       "570                It's great. Not perfect, but great.   \n",
       "571                                            Love it   \n",
       "572                                                      \n",
       "\n",
       "                                                  date  \\\n",
       "0    Reviewed in the United States on September 23,...   \n",
       "1    Reviewed in the United States on September 20,...   \n",
       "2     Reviewed in the United States on January 6, 2020   \n",
       "3    Reviewed in the United States on September 25,...   \n",
       "4        Reviewed in the United States on May 21, 2020   \n",
       "..                                                 ...   \n",
       "568             Reviewed in Mexico on October 15, 2020   \n",
       "569                Reviewed in Canada on July 23, 2020   \n",
       "570         Reviewed in Australia on February 23, 2021   \n",
       "571           Reviewed in Australia on August 15, 2020   \n",
       "572           Reviewed in Australia on August 10, 2021   \n",
       "\n",
       "                            variant  \\\n",
       "0                              None   \n",
       "1                              None   \n",
       "2      Color: Gateron Red Switch v2   \n",
       "3                              None   \n",
       "4                              None   \n",
       "..                              ...   \n",
       "568    Color: Gateron Red Switch v2   \n",
       "569    Color: Gateron Red Switch v2   \n",
       "570    Color: Gateron Red Switch v2   \n",
       "571  Color: Gateron Brown Switch v2   \n",
       "572                            None   \n",
       "\n",
       "                                                images           verified  \\\n",
       "0    [https://images-na.ssl-images-amazon.com/image...  Verified Purchase   \n",
       "1                                                 None  Verified Purchase   \n",
       "2                                                 None  Verified Purchase   \n",
       "3    [https://images-na.ssl-images-amazon.com/image...  Verified Purchase   \n",
       "4                                                 None  Verified Purchase   \n",
       "..                                                 ...                ...   \n",
       "568                                               None  Verified Purchase   \n",
       "569                                               None  Verified Purchase   \n",
       "570                                               None  Verified Purchase   \n",
       "571                                               None  Verified Purchase   \n",
       "572                                               None  Verified Purchase   \n",
       "\n",
       "             author  rating  \n",
       "0               Dan     4.0  \n",
       "1    Isra Ignateous     4.0  \n",
       "2              Carl     3.0  \n",
       "3            Arturo     5.0  \n",
       "4            Christ     5.0  \n",
       "..              ...     ...  \n",
       "568           Edwin     NaN  \n",
       "569     Miguel Wang     NaN  \n",
       "570  Samuel Nielsen     NaN  \n",
       "571         wei cui     NaN  \n",
       "572   Ben Templeton     NaN  \n",
       "\n",
       "[573 rows x 8 columns]"
      ]
     },
     "execution_count": 47,
     "metadata": {},
     "output_type": "execute_result"
    }
   ],
   "source": []
  },
  {
   "cell_type": "code",
   "execution_count": 58,
   "id": "c6823f79",
   "metadata": {},
   "outputs": [
    {
     "data": {
      "application/vnd.plotly.v1+json": {
       "config": {
        "plotlyServerURL": "https://plot.ly"
       },
       "data": [
        {
         "alignmentgroup": "True",
         "bingroup": "x",
         "hovertemplate": "variable=rating<br>value=%{x}<br>count=%{y}<extra></extra>",
         "legendgroup": "rating",
         "marker": {
          "color": "#636efa",
          "pattern": {
           "shape": ""
          }
         },
         "name": "rating",
         "offsetgroup": "rating",
         "orientation": "v",
         "showlegend": true,
         "type": "histogram",
         "x": [
          4,
          4,
          3,
          5,
          5,
          5,
          2,
          5,
          5,
          1,
          5,
          1,
          5,
          2,
          4,
          5,
          5,
          1,
          2,
          4,
          4,
          3,
          5,
          5,
          5,
          5,
          5,
          4,
          5,
          5,
          4,
          2,
          4,
          3,
          1,
          4,
          5,
          5,
          2,
          4,
          5,
          4,
          5,
          1,
          4,
          1,
          5,
          5,
          2,
          2,
          5,
          5,
          4,
          3,
          2,
          5,
          5,
          2,
          4,
          5,
          4,
          5,
          2,
          5,
          1,
          4,
          5,
          4,
          3,
          1,
          5,
          3,
          5,
          2,
          4,
          5,
          1,
          5,
          5,
          5,
          4,
          5,
          5,
          5,
          1,
          5,
          2,
          4,
          5,
          2,
          5,
          1,
          2,
          5,
          5,
          5,
          4,
          1,
          5,
          3,
          5,
          1,
          1,
          5,
          5,
          2,
          5,
          5,
          4,
          5,
          5,
          5,
          5,
          5,
          4,
          5,
          4,
          5,
          4,
          5,
          1,
          5,
          4,
          5,
          5,
          5,
          2,
          4,
          5,
          5,
          5,
          5,
          5,
          5,
          5,
          5,
          5,
          4,
          2,
          3,
          2,
          5,
          4,
          5,
          5,
          1,
          5,
          2,
          5,
          3,
          5,
          1,
          4,
          5,
          5,
          2,
          2,
          4,
          5,
          4,
          5,
          5,
          1,
          5,
          5,
          5,
          5,
          5,
          5,
          4,
          2,
          3,
          1,
          1,
          4,
          5,
          5,
          1,
          2,
          1,
          4,
          5,
          5,
          3,
          5,
          5,
          5,
          5,
          2,
          5,
          4,
          5,
          5,
          5,
          5,
          2,
          5,
          5,
          1,
          4,
          2,
          5,
          5,
          1,
          5,
          5,
          5,
          3,
          1,
          5,
          5,
          5,
          5,
          1,
          1,
          1,
          2,
          5,
          5,
          1,
          5,
          1,
          4,
          4,
          3,
          4,
          4,
          2,
          1,
          4,
          2,
          5,
          5,
          5,
          3,
          5,
          5,
          5,
          5,
          5,
          5,
          5,
          4,
          5,
          5,
          5,
          4,
          5,
          5,
          5,
          5,
          5,
          5,
          4,
          1,
          5,
          5,
          3,
          3,
          5,
          5,
          1,
          5,
          5,
          5,
          5,
          5,
          4,
          5,
          3,
          5,
          4,
          2,
          5,
          5,
          5,
          1,
          5,
          5,
          5,
          5,
          5,
          4,
          4,
          5,
          4,
          1,
          1,
          5,
          5,
          5,
          1,
          5,
          4,
          5,
          5,
          4,
          5,
          5,
          5,
          5,
          5,
          5,
          5,
          3,
          5,
          5,
          5,
          5,
          5,
          5,
          5,
          5,
          1,
          5,
          5,
          2,
          5,
          5,
          2,
          5,
          5,
          5,
          4,
          5,
          3,
          5,
          5,
          5,
          5,
          3,
          5,
          5,
          5,
          5,
          5,
          1,
          5,
          5,
          5,
          5,
          5,
          5,
          5,
          5,
          1,
          1,
          5,
          5,
          5,
          5,
          5,
          5,
          5,
          5,
          5,
          5,
          4,
          5,
          5,
          5,
          4,
          5,
          4,
          5,
          1,
          3,
          5,
          5,
          2,
          4,
          5,
          5,
          5,
          5,
          5,
          5,
          3,
          5,
          5,
          5,
          5,
          5,
          4,
          5,
          5,
          5,
          5,
          5,
          5,
          3,
          5,
          1,
          5,
          5,
          1,
          5,
          5,
          5,
          4,
          5,
          5,
          5,
          5,
          5,
          1,
          5,
          5,
          5,
          5,
          5,
          5,
          5,
          4,
          5,
          5,
          5,
          5,
          5,
          5,
          1,
          5,
          5,
          5,
          5,
          4,
          5,
          5,
          5,
          5,
          5,
          5,
          5,
          5,
          4,
          5,
          5,
          5,
          5,
          5,
          5,
          5,
          5,
          5,
          5,
          5,
          5,
          5,
          5,
          5,
          5,
          5,
          5,
          5,
          3,
          5,
          5,
          4,
          5,
          5,
          4,
          5,
          5,
          5,
          5,
          5,
          5,
          5,
          5,
          5,
          5,
          5,
          5,
          5,
          4,
          5,
          5,
          3,
          5,
          4,
          1,
          2,
          3,
          4,
          2,
          5,
          5,
          3,
          4,
          5,
          3,
          5,
          2,
          2,
          3,
          4,
          1,
          2,
          5,
          3,
          5,
          3,
          5,
          1,
          5,
          1,
          4,
          1,
          4,
          5,
          5,
          5,
          5,
          5,
          5,
          5,
          5,
          4,
          5,
          5,
          1,
          4,
          5,
          5,
          5,
          5,
          5,
          5,
          1,
          5,
          2,
          5,
          5,
          5,
          5,
          5,
          3,
          5,
          5,
          5,
          5,
          4,
          4,
          5,
          5,
          5,
          5,
          5,
          5,
          5,
          5,
          5,
          5,
          5,
          5,
          5,
          5,
          5,
          null,
          null,
          null,
          null,
          null,
          null,
          null,
          null,
          null,
          null,
          null,
          null,
          null,
          null,
          null
         ],
         "xaxis": "x",
         "yaxis": "y"
        },
        {
         "alignmentgroup": "True",
         "hovertemplate": "variable=rating<br>value=%{x}<extra></extra>",
         "legendgroup": "rating",
         "marker": {
          "color": "#636efa"
         },
         "name": "rating",
         "notched": true,
         "offsetgroup": "rating",
         "showlegend": false,
         "type": "box",
         "x": [
          4,
          4,
          3,
          5,
          5,
          5,
          2,
          5,
          5,
          1,
          5,
          1,
          5,
          2,
          4,
          5,
          5,
          1,
          2,
          4,
          4,
          3,
          5,
          5,
          5,
          5,
          5,
          4,
          5,
          5,
          4,
          2,
          4,
          3,
          1,
          4,
          5,
          5,
          2,
          4,
          5,
          4,
          5,
          1,
          4,
          1,
          5,
          5,
          2,
          2,
          5,
          5,
          4,
          3,
          2,
          5,
          5,
          2,
          4,
          5,
          4,
          5,
          2,
          5,
          1,
          4,
          5,
          4,
          3,
          1,
          5,
          3,
          5,
          2,
          4,
          5,
          1,
          5,
          5,
          5,
          4,
          5,
          5,
          5,
          1,
          5,
          2,
          4,
          5,
          2,
          5,
          1,
          2,
          5,
          5,
          5,
          4,
          1,
          5,
          3,
          5,
          1,
          1,
          5,
          5,
          2,
          5,
          5,
          4,
          5,
          5,
          5,
          5,
          5,
          4,
          5,
          4,
          5,
          4,
          5,
          1,
          5,
          4,
          5,
          5,
          5,
          2,
          4,
          5,
          5,
          5,
          5,
          5,
          5,
          5,
          5,
          5,
          4,
          2,
          3,
          2,
          5,
          4,
          5,
          5,
          1,
          5,
          2,
          5,
          3,
          5,
          1,
          4,
          5,
          5,
          2,
          2,
          4,
          5,
          4,
          5,
          5,
          1,
          5,
          5,
          5,
          5,
          5,
          5,
          4,
          2,
          3,
          1,
          1,
          4,
          5,
          5,
          1,
          2,
          1,
          4,
          5,
          5,
          3,
          5,
          5,
          5,
          5,
          2,
          5,
          4,
          5,
          5,
          5,
          5,
          2,
          5,
          5,
          1,
          4,
          2,
          5,
          5,
          1,
          5,
          5,
          5,
          3,
          1,
          5,
          5,
          5,
          5,
          1,
          1,
          1,
          2,
          5,
          5,
          1,
          5,
          1,
          4,
          4,
          3,
          4,
          4,
          2,
          1,
          4,
          2,
          5,
          5,
          5,
          3,
          5,
          5,
          5,
          5,
          5,
          5,
          5,
          4,
          5,
          5,
          5,
          4,
          5,
          5,
          5,
          5,
          5,
          5,
          4,
          1,
          5,
          5,
          3,
          3,
          5,
          5,
          1,
          5,
          5,
          5,
          5,
          5,
          4,
          5,
          3,
          5,
          4,
          2,
          5,
          5,
          5,
          1,
          5,
          5,
          5,
          5,
          5,
          4,
          4,
          5,
          4,
          1,
          1,
          5,
          5,
          5,
          1,
          5,
          4,
          5,
          5,
          4,
          5,
          5,
          5,
          5,
          5,
          5,
          5,
          3,
          5,
          5,
          5,
          5,
          5,
          5,
          5,
          5,
          1,
          5,
          5,
          2,
          5,
          5,
          2,
          5,
          5,
          5,
          4,
          5,
          3,
          5,
          5,
          5,
          5,
          3,
          5,
          5,
          5,
          5,
          5,
          1,
          5,
          5,
          5,
          5,
          5,
          5,
          5,
          5,
          1,
          1,
          5,
          5,
          5,
          5,
          5,
          5,
          5,
          5,
          5,
          5,
          4,
          5,
          5,
          5,
          4,
          5,
          4,
          5,
          1,
          3,
          5,
          5,
          2,
          4,
          5,
          5,
          5,
          5,
          5,
          5,
          3,
          5,
          5,
          5,
          5,
          5,
          4,
          5,
          5,
          5,
          5,
          5,
          5,
          3,
          5,
          1,
          5,
          5,
          1,
          5,
          5,
          5,
          4,
          5,
          5,
          5,
          5,
          5,
          1,
          5,
          5,
          5,
          5,
          5,
          5,
          5,
          4,
          5,
          5,
          5,
          5,
          5,
          5,
          1,
          5,
          5,
          5,
          5,
          4,
          5,
          5,
          5,
          5,
          5,
          5,
          5,
          5,
          4,
          5,
          5,
          5,
          5,
          5,
          5,
          5,
          5,
          5,
          5,
          5,
          5,
          5,
          5,
          5,
          5,
          5,
          5,
          5,
          3,
          5,
          5,
          4,
          5,
          5,
          4,
          5,
          5,
          5,
          5,
          5,
          5,
          5,
          5,
          5,
          5,
          5,
          5,
          5,
          4,
          5,
          5,
          3,
          5,
          4,
          1,
          2,
          3,
          4,
          2,
          5,
          5,
          3,
          4,
          5,
          3,
          5,
          2,
          2,
          3,
          4,
          1,
          2,
          5,
          3,
          5,
          3,
          5,
          1,
          5,
          1,
          4,
          1,
          4,
          5,
          5,
          5,
          5,
          5,
          5,
          5,
          5,
          4,
          5,
          5,
          1,
          4,
          5,
          5,
          5,
          5,
          5,
          5,
          1,
          5,
          2,
          5,
          5,
          5,
          5,
          5,
          3,
          5,
          5,
          5,
          5,
          4,
          4,
          5,
          5,
          5,
          5,
          5,
          5,
          5,
          5,
          5,
          5,
          5,
          5,
          5,
          5,
          5,
          null,
          null,
          null,
          null,
          null,
          null,
          null,
          null,
          null,
          null,
          null,
          null,
          null,
          null,
          null
         ],
         "xaxis": "x2",
         "yaxis": "y2"
        }
       ],
       "layout": {
        "barmode": "relative",
        "legend": {
         "title": {
          "text": "variable"
         },
         "tracegroupgap": 0
        },
        "margin": {
         "t": 60
        },
        "template": {
         "data": {
          "bar": [
           {
            "error_x": {
             "color": "#2a3f5f"
            },
            "error_y": {
             "color": "#2a3f5f"
            },
            "marker": {
             "line": {
              "color": "#E5ECF6",
              "width": 0.5
             },
             "pattern": {
              "fillmode": "overlay",
              "size": 10,
              "solidity": 0.2
             }
            },
            "type": "bar"
           }
          ],
          "barpolar": [
           {
            "marker": {
             "line": {
              "color": "#E5ECF6",
              "width": 0.5
             },
             "pattern": {
              "fillmode": "overlay",
              "size": 10,
              "solidity": 0.2
             }
            },
            "type": "barpolar"
           }
          ],
          "carpet": [
           {
            "aaxis": {
             "endlinecolor": "#2a3f5f",
             "gridcolor": "white",
             "linecolor": "white",
             "minorgridcolor": "white",
             "startlinecolor": "#2a3f5f"
            },
            "baxis": {
             "endlinecolor": "#2a3f5f",
             "gridcolor": "white",
             "linecolor": "white",
             "minorgridcolor": "white",
             "startlinecolor": "#2a3f5f"
            },
            "type": "carpet"
           }
          ],
          "choropleth": [
           {
            "colorbar": {
             "outlinewidth": 0,
             "ticks": ""
            },
            "type": "choropleth"
           }
          ],
          "contour": [
           {
            "colorbar": {
             "outlinewidth": 0,
             "ticks": ""
            },
            "colorscale": [
             [
              0,
              "#0d0887"
             ],
             [
              0.1111111111111111,
              "#46039f"
             ],
             [
              0.2222222222222222,
              "#7201a8"
             ],
             [
              0.3333333333333333,
              "#9c179e"
             ],
             [
              0.4444444444444444,
              "#bd3786"
             ],
             [
              0.5555555555555556,
              "#d8576b"
             ],
             [
              0.6666666666666666,
              "#ed7953"
             ],
             [
              0.7777777777777778,
              "#fb9f3a"
             ],
             [
              0.8888888888888888,
              "#fdca26"
             ],
             [
              1,
              "#f0f921"
             ]
            ],
            "type": "contour"
           }
          ],
          "contourcarpet": [
           {
            "colorbar": {
             "outlinewidth": 0,
             "ticks": ""
            },
            "type": "contourcarpet"
           }
          ],
          "heatmap": [
           {
            "colorbar": {
             "outlinewidth": 0,
             "ticks": ""
            },
            "colorscale": [
             [
              0,
              "#0d0887"
             ],
             [
              0.1111111111111111,
              "#46039f"
             ],
             [
              0.2222222222222222,
              "#7201a8"
             ],
             [
              0.3333333333333333,
              "#9c179e"
             ],
             [
              0.4444444444444444,
              "#bd3786"
             ],
             [
              0.5555555555555556,
              "#d8576b"
             ],
             [
              0.6666666666666666,
              "#ed7953"
             ],
             [
              0.7777777777777778,
              "#fb9f3a"
             ],
             [
              0.8888888888888888,
              "#fdca26"
             ],
             [
              1,
              "#f0f921"
             ]
            ],
            "type": "heatmap"
           }
          ],
          "heatmapgl": [
           {
            "colorbar": {
             "outlinewidth": 0,
             "ticks": ""
            },
            "colorscale": [
             [
              0,
              "#0d0887"
             ],
             [
              0.1111111111111111,
              "#46039f"
             ],
             [
              0.2222222222222222,
              "#7201a8"
             ],
             [
              0.3333333333333333,
              "#9c179e"
             ],
             [
              0.4444444444444444,
              "#bd3786"
             ],
             [
              0.5555555555555556,
              "#d8576b"
             ],
             [
              0.6666666666666666,
              "#ed7953"
             ],
             [
              0.7777777777777778,
              "#fb9f3a"
             ],
             [
              0.8888888888888888,
              "#fdca26"
             ],
             [
              1,
              "#f0f921"
             ]
            ],
            "type": "heatmapgl"
           }
          ],
          "histogram": [
           {
            "marker": {
             "pattern": {
              "fillmode": "overlay",
              "size": 10,
              "solidity": 0.2
             }
            },
            "type": "histogram"
           }
          ],
          "histogram2d": [
           {
            "colorbar": {
             "outlinewidth": 0,
             "ticks": ""
            },
            "colorscale": [
             [
              0,
              "#0d0887"
             ],
             [
              0.1111111111111111,
              "#46039f"
             ],
             [
              0.2222222222222222,
              "#7201a8"
             ],
             [
              0.3333333333333333,
              "#9c179e"
             ],
             [
              0.4444444444444444,
              "#bd3786"
             ],
             [
              0.5555555555555556,
              "#d8576b"
             ],
             [
              0.6666666666666666,
              "#ed7953"
             ],
             [
              0.7777777777777778,
              "#fb9f3a"
             ],
             [
              0.8888888888888888,
              "#fdca26"
             ],
             [
              1,
              "#f0f921"
             ]
            ],
            "type": "histogram2d"
           }
          ],
          "histogram2dcontour": [
           {
            "colorbar": {
             "outlinewidth": 0,
             "ticks": ""
            },
            "colorscale": [
             [
              0,
              "#0d0887"
             ],
             [
              0.1111111111111111,
              "#46039f"
             ],
             [
              0.2222222222222222,
              "#7201a8"
             ],
             [
              0.3333333333333333,
              "#9c179e"
             ],
             [
              0.4444444444444444,
              "#bd3786"
             ],
             [
              0.5555555555555556,
              "#d8576b"
             ],
             [
              0.6666666666666666,
              "#ed7953"
             ],
             [
              0.7777777777777778,
              "#fb9f3a"
             ],
             [
              0.8888888888888888,
              "#fdca26"
             ],
             [
              1,
              "#f0f921"
             ]
            ],
            "type": "histogram2dcontour"
           }
          ],
          "mesh3d": [
           {
            "colorbar": {
             "outlinewidth": 0,
             "ticks": ""
            },
            "type": "mesh3d"
           }
          ],
          "parcoords": [
           {
            "line": {
             "colorbar": {
              "outlinewidth": 0,
              "ticks": ""
             }
            },
            "type": "parcoords"
           }
          ],
          "pie": [
           {
            "automargin": true,
            "type": "pie"
           }
          ],
          "scatter": [
           {
            "marker": {
             "colorbar": {
              "outlinewidth": 0,
              "ticks": ""
             }
            },
            "type": "scatter"
           }
          ],
          "scatter3d": [
           {
            "line": {
             "colorbar": {
              "outlinewidth": 0,
              "ticks": ""
             }
            },
            "marker": {
             "colorbar": {
              "outlinewidth": 0,
              "ticks": ""
             }
            },
            "type": "scatter3d"
           }
          ],
          "scattercarpet": [
           {
            "marker": {
             "colorbar": {
              "outlinewidth": 0,
              "ticks": ""
             }
            },
            "type": "scattercarpet"
           }
          ],
          "scattergeo": [
           {
            "marker": {
             "colorbar": {
              "outlinewidth": 0,
              "ticks": ""
             }
            },
            "type": "scattergeo"
           }
          ],
          "scattergl": [
           {
            "marker": {
             "colorbar": {
              "outlinewidth": 0,
              "ticks": ""
             }
            },
            "type": "scattergl"
           }
          ],
          "scattermapbox": [
           {
            "marker": {
             "colorbar": {
              "outlinewidth": 0,
              "ticks": ""
             }
            },
            "type": "scattermapbox"
           }
          ],
          "scatterpolar": [
           {
            "marker": {
             "colorbar": {
              "outlinewidth": 0,
              "ticks": ""
             }
            },
            "type": "scatterpolar"
           }
          ],
          "scatterpolargl": [
           {
            "marker": {
             "colorbar": {
              "outlinewidth": 0,
              "ticks": ""
             }
            },
            "type": "scatterpolargl"
           }
          ],
          "scatterternary": [
           {
            "marker": {
             "colorbar": {
              "outlinewidth": 0,
              "ticks": ""
             }
            },
            "type": "scatterternary"
           }
          ],
          "surface": [
           {
            "colorbar": {
             "outlinewidth": 0,
             "ticks": ""
            },
            "colorscale": [
             [
              0,
              "#0d0887"
             ],
             [
              0.1111111111111111,
              "#46039f"
             ],
             [
              0.2222222222222222,
              "#7201a8"
             ],
             [
              0.3333333333333333,
              "#9c179e"
             ],
             [
              0.4444444444444444,
              "#bd3786"
             ],
             [
              0.5555555555555556,
              "#d8576b"
             ],
             [
              0.6666666666666666,
              "#ed7953"
             ],
             [
              0.7777777777777778,
              "#fb9f3a"
             ],
             [
              0.8888888888888888,
              "#fdca26"
             ],
             [
              1,
              "#f0f921"
             ]
            ],
            "type": "surface"
           }
          ],
          "table": [
           {
            "cells": {
             "fill": {
              "color": "#EBF0F8"
             },
             "line": {
              "color": "white"
             }
            },
            "header": {
             "fill": {
              "color": "#C8D4E3"
             },
             "line": {
              "color": "white"
             }
            },
            "type": "table"
           }
          ]
         },
         "layout": {
          "annotationdefaults": {
           "arrowcolor": "#2a3f5f",
           "arrowhead": 0,
           "arrowwidth": 1
          },
          "autotypenumbers": "strict",
          "coloraxis": {
           "colorbar": {
            "outlinewidth": 0,
            "ticks": ""
           }
          },
          "colorscale": {
           "diverging": [
            [
             0,
             "#8e0152"
            ],
            [
             0.1,
             "#c51b7d"
            ],
            [
             0.2,
             "#de77ae"
            ],
            [
             0.3,
             "#f1b6da"
            ],
            [
             0.4,
             "#fde0ef"
            ],
            [
             0.5,
             "#f7f7f7"
            ],
            [
             0.6,
             "#e6f5d0"
            ],
            [
             0.7,
             "#b8e186"
            ],
            [
             0.8,
             "#7fbc41"
            ],
            [
             0.9,
             "#4d9221"
            ],
            [
             1,
             "#276419"
            ]
           ],
           "sequential": [
            [
             0,
             "#0d0887"
            ],
            [
             0.1111111111111111,
             "#46039f"
            ],
            [
             0.2222222222222222,
             "#7201a8"
            ],
            [
             0.3333333333333333,
             "#9c179e"
            ],
            [
             0.4444444444444444,
             "#bd3786"
            ],
            [
             0.5555555555555556,
             "#d8576b"
            ],
            [
             0.6666666666666666,
             "#ed7953"
            ],
            [
             0.7777777777777778,
             "#fb9f3a"
            ],
            [
             0.8888888888888888,
             "#fdca26"
            ],
            [
             1,
             "#f0f921"
            ]
           ],
           "sequentialminus": [
            [
             0,
             "#0d0887"
            ],
            [
             0.1111111111111111,
             "#46039f"
            ],
            [
             0.2222222222222222,
             "#7201a8"
            ],
            [
             0.3333333333333333,
             "#9c179e"
            ],
            [
             0.4444444444444444,
             "#bd3786"
            ],
            [
             0.5555555555555556,
             "#d8576b"
            ],
            [
             0.6666666666666666,
             "#ed7953"
            ],
            [
             0.7777777777777778,
             "#fb9f3a"
            ],
            [
             0.8888888888888888,
             "#fdca26"
            ],
            [
             1,
             "#f0f921"
            ]
           ]
          },
          "colorway": [
           "#636efa",
           "#EF553B",
           "#00cc96",
           "#ab63fa",
           "#FFA15A",
           "#19d3f3",
           "#FF6692",
           "#B6E880",
           "#FF97FF",
           "#FECB52"
          ],
          "font": {
           "color": "#2a3f5f"
          },
          "geo": {
           "bgcolor": "white",
           "lakecolor": "white",
           "landcolor": "#E5ECF6",
           "showlakes": true,
           "showland": true,
           "subunitcolor": "white"
          },
          "hoverlabel": {
           "align": "left"
          },
          "hovermode": "closest",
          "mapbox": {
           "style": "light"
          },
          "paper_bgcolor": "white",
          "plot_bgcolor": "#E5ECF6",
          "polar": {
           "angularaxis": {
            "gridcolor": "white",
            "linecolor": "white",
            "ticks": ""
           },
           "bgcolor": "#E5ECF6",
           "radialaxis": {
            "gridcolor": "white",
            "linecolor": "white",
            "ticks": ""
           }
          },
          "scene": {
           "xaxis": {
            "backgroundcolor": "#E5ECF6",
            "gridcolor": "white",
            "gridwidth": 2,
            "linecolor": "white",
            "showbackground": true,
            "ticks": "",
            "zerolinecolor": "white"
           },
           "yaxis": {
            "backgroundcolor": "#E5ECF6",
            "gridcolor": "white",
            "gridwidth": 2,
            "linecolor": "white",
            "showbackground": true,
            "ticks": "",
            "zerolinecolor": "white"
           },
           "zaxis": {
            "backgroundcolor": "#E5ECF6",
            "gridcolor": "white",
            "gridwidth": 2,
            "linecolor": "white",
            "showbackground": true,
            "ticks": "",
            "zerolinecolor": "white"
           }
          },
          "shapedefaults": {
           "line": {
            "color": "#2a3f5f"
           }
          },
          "ternary": {
           "aaxis": {
            "gridcolor": "white",
            "linecolor": "white",
            "ticks": ""
           },
           "baxis": {
            "gridcolor": "white",
            "linecolor": "white",
            "ticks": ""
           },
           "bgcolor": "#E5ECF6",
           "caxis": {
            "gridcolor": "white",
            "linecolor": "white",
            "ticks": ""
           }
          },
          "title": {
           "x": 0.05
          },
          "xaxis": {
           "automargin": true,
           "gridcolor": "white",
           "linecolor": "white",
           "ticks": "",
           "title": {
            "standoff": 15
           },
           "zerolinecolor": "white",
           "zerolinewidth": 2
          },
          "yaxis": {
           "automargin": true,
           "gridcolor": "white",
           "linecolor": "white",
           "ticks": "",
           "title": {
            "standoff": 15
           },
           "zerolinecolor": "white",
           "zerolinewidth": 2
          }
         }
        },
        "xaxis": {
         "anchor": "y",
         "domain": [
          0,
          1
         ],
         "title": {
          "text": "value"
         }
        },
        "xaxis2": {
         "anchor": "y2",
         "domain": [
          0,
          1
         ],
         "matches": "x",
         "showgrid": true,
         "showticklabels": false
        },
        "yaxis": {
         "anchor": "x",
         "domain": [
          0,
          0.7326
         ],
         "title": {
          "text": "count"
         }
        },
        "yaxis2": {
         "anchor": "x2",
         "domain": [
          0.7426,
          1
         ],
         "matches": "y2",
         "showgrid": false,
         "showline": false,
         "showticklabels": false,
         "ticks": ""
        }
       }
      },
      "text/html": [
       "<div>                            <div id=\"f43fb354-cef2-48f6-a31b-5b96594bff8c\" class=\"plotly-graph-div\" style=\"height:525px; width:100%;\"></div>            <script type=\"text/javascript\">                require([\"plotly\"], function(Plotly) {                    window.PLOTLYENV=window.PLOTLYENV || {};                                    if (document.getElementById(\"f43fb354-cef2-48f6-a31b-5b96594bff8c\")) {                    Plotly.newPlot(                        \"f43fb354-cef2-48f6-a31b-5b96594bff8c\",                        [{\"alignmentgroup\":\"True\",\"bingroup\":\"x\",\"hovertemplate\":\"variable=rating<br>value=%{x}<br>count=%{y}<extra></extra>\",\"legendgroup\":\"rating\",\"marker\":{\"color\":\"#636efa\",\"pattern\":{\"shape\":\"\"}},\"name\":\"rating\",\"offsetgroup\":\"rating\",\"orientation\":\"v\",\"showlegend\":true,\"x\":[4.0,4.0,3.0,5.0,5.0,5.0,2.0,5.0,5.0,1.0,5.0,1.0,5.0,2.0,4.0,5.0,5.0,1.0,2.0,4.0,4.0,3.0,5.0,5.0,5.0,5.0,5.0,4.0,5.0,5.0,4.0,2.0,4.0,3.0,1.0,4.0,5.0,5.0,2.0,4.0,5.0,4.0,5.0,1.0,4.0,1.0,5.0,5.0,2.0,2.0,5.0,5.0,4.0,3.0,2.0,5.0,5.0,2.0,4.0,5.0,4.0,5.0,2.0,5.0,1.0,4.0,5.0,4.0,3.0,1.0,5.0,3.0,5.0,2.0,4.0,5.0,1.0,5.0,5.0,5.0,4.0,5.0,5.0,5.0,1.0,5.0,2.0,4.0,5.0,2.0,5.0,1.0,2.0,5.0,5.0,5.0,4.0,1.0,5.0,3.0,5.0,1.0,1.0,5.0,5.0,2.0,5.0,5.0,4.0,5.0,5.0,5.0,5.0,5.0,4.0,5.0,4.0,5.0,4.0,5.0,1.0,5.0,4.0,5.0,5.0,5.0,2.0,4.0,5.0,5.0,5.0,5.0,5.0,5.0,5.0,5.0,5.0,4.0,2.0,3.0,2.0,5.0,4.0,5.0,5.0,1.0,5.0,2.0,5.0,3.0,5.0,1.0,4.0,5.0,5.0,2.0,2.0,4.0,5.0,4.0,5.0,5.0,1.0,5.0,5.0,5.0,5.0,5.0,5.0,4.0,2.0,3.0,1.0,1.0,4.0,5.0,5.0,1.0,2.0,1.0,4.0,5.0,5.0,3.0,5.0,5.0,5.0,5.0,2.0,5.0,4.0,5.0,5.0,5.0,5.0,2.0,5.0,5.0,1.0,4.0,2.0,5.0,5.0,1.0,5.0,5.0,5.0,3.0,1.0,5.0,5.0,5.0,5.0,1.0,1.0,1.0,2.0,5.0,5.0,1.0,5.0,1.0,4.0,4.0,3.0,4.0,4.0,2.0,1.0,4.0,2.0,5.0,5.0,5.0,3.0,5.0,5.0,5.0,5.0,5.0,5.0,5.0,4.0,5.0,5.0,5.0,4.0,5.0,5.0,5.0,5.0,5.0,5.0,4.0,1.0,5.0,5.0,3.0,3.0,5.0,5.0,1.0,5.0,5.0,5.0,5.0,5.0,4.0,5.0,3.0,5.0,4.0,2.0,5.0,5.0,5.0,1.0,5.0,5.0,5.0,5.0,5.0,4.0,4.0,5.0,4.0,1.0,1.0,5.0,5.0,5.0,1.0,5.0,4.0,5.0,5.0,4.0,5.0,5.0,5.0,5.0,5.0,5.0,5.0,3.0,5.0,5.0,5.0,5.0,5.0,5.0,5.0,5.0,1.0,5.0,5.0,2.0,5.0,5.0,2.0,5.0,5.0,5.0,4.0,5.0,3.0,5.0,5.0,5.0,5.0,3.0,5.0,5.0,5.0,5.0,5.0,1.0,5.0,5.0,5.0,5.0,5.0,5.0,5.0,5.0,1.0,1.0,5.0,5.0,5.0,5.0,5.0,5.0,5.0,5.0,5.0,5.0,4.0,5.0,5.0,5.0,4.0,5.0,4.0,5.0,1.0,3.0,5.0,5.0,2.0,4.0,5.0,5.0,5.0,5.0,5.0,5.0,3.0,5.0,5.0,5.0,5.0,5.0,4.0,5.0,5.0,5.0,5.0,5.0,5.0,3.0,5.0,1.0,5.0,5.0,1.0,5.0,5.0,5.0,4.0,5.0,5.0,5.0,5.0,5.0,1.0,5.0,5.0,5.0,5.0,5.0,5.0,5.0,4.0,5.0,5.0,5.0,5.0,5.0,5.0,1.0,5.0,5.0,5.0,5.0,4.0,5.0,5.0,5.0,5.0,5.0,5.0,5.0,5.0,4.0,5.0,5.0,5.0,5.0,5.0,5.0,5.0,5.0,5.0,5.0,5.0,5.0,5.0,5.0,5.0,5.0,5.0,5.0,5.0,3.0,5.0,5.0,4.0,5.0,5.0,4.0,5.0,5.0,5.0,5.0,5.0,5.0,5.0,5.0,5.0,5.0,5.0,5.0,5.0,4.0,5.0,5.0,3.0,5.0,4.0,1.0,2.0,3.0,4.0,2.0,5.0,5.0,3.0,4.0,5.0,3.0,5.0,2.0,2.0,3.0,4.0,1.0,2.0,5.0,3.0,5.0,3.0,5.0,1.0,5.0,1.0,4.0,1.0,4.0,5.0,5.0,5.0,5.0,5.0,5.0,5.0,5.0,4.0,5.0,5.0,1.0,4.0,5.0,5.0,5.0,5.0,5.0,5.0,1.0,5.0,2.0,5.0,5.0,5.0,5.0,5.0,3.0,5.0,5.0,5.0,5.0,4.0,4.0,5.0,5.0,5.0,5.0,5.0,5.0,5.0,5.0,5.0,5.0,5.0,5.0,5.0,5.0,5.0,null,null,null,null,null,null,null,null,null,null,null,null,null,null,null],\"xaxis\":\"x\",\"yaxis\":\"y\",\"type\":\"histogram\"},{\"alignmentgroup\":\"True\",\"hovertemplate\":\"variable=rating<br>value=%{x}<extra></extra>\",\"legendgroup\":\"rating\",\"marker\":{\"color\":\"#636efa\"},\"name\":\"rating\",\"notched\":true,\"offsetgroup\":\"rating\",\"showlegend\":false,\"x\":[4.0,4.0,3.0,5.0,5.0,5.0,2.0,5.0,5.0,1.0,5.0,1.0,5.0,2.0,4.0,5.0,5.0,1.0,2.0,4.0,4.0,3.0,5.0,5.0,5.0,5.0,5.0,4.0,5.0,5.0,4.0,2.0,4.0,3.0,1.0,4.0,5.0,5.0,2.0,4.0,5.0,4.0,5.0,1.0,4.0,1.0,5.0,5.0,2.0,2.0,5.0,5.0,4.0,3.0,2.0,5.0,5.0,2.0,4.0,5.0,4.0,5.0,2.0,5.0,1.0,4.0,5.0,4.0,3.0,1.0,5.0,3.0,5.0,2.0,4.0,5.0,1.0,5.0,5.0,5.0,4.0,5.0,5.0,5.0,1.0,5.0,2.0,4.0,5.0,2.0,5.0,1.0,2.0,5.0,5.0,5.0,4.0,1.0,5.0,3.0,5.0,1.0,1.0,5.0,5.0,2.0,5.0,5.0,4.0,5.0,5.0,5.0,5.0,5.0,4.0,5.0,4.0,5.0,4.0,5.0,1.0,5.0,4.0,5.0,5.0,5.0,2.0,4.0,5.0,5.0,5.0,5.0,5.0,5.0,5.0,5.0,5.0,4.0,2.0,3.0,2.0,5.0,4.0,5.0,5.0,1.0,5.0,2.0,5.0,3.0,5.0,1.0,4.0,5.0,5.0,2.0,2.0,4.0,5.0,4.0,5.0,5.0,1.0,5.0,5.0,5.0,5.0,5.0,5.0,4.0,2.0,3.0,1.0,1.0,4.0,5.0,5.0,1.0,2.0,1.0,4.0,5.0,5.0,3.0,5.0,5.0,5.0,5.0,2.0,5.0,4.0,5.0,5.0,5.0,5.0,2.0,5.0,5.0,1.0,4.0,2.0,5.0,5.0,1.0,5.0,5.0,5.0,3.0,1.0,5.0,5.0,5.0,5.0,1.0,1.0,1.0,2.0,5.0,5.0,1.0,5.0,1.0,4.0,4.0,3.0,4.0,4.0,2.0,1.0,4.0,2.0,5.0,5.0,5.0,3.0,5.0,5.0,5.0,5.0,5.0,5.0,5.0,4.0,5.0,5.0,5.0,4.0,5.0,5.0,5.0,5.0,5.0,5.0,4.0,1.0,5.0,5.0,3.0,3.0,5.0,5.0,1.0,5.0,5.0,5.0,5.0,5.0,4.0,5.0,3.0,5.0,4.0,2.0,5.0,5.0,5.0,1.0,5.0,5.0,5.0,5.0,5.0,4.0,4.0,5.0,4.0,1.0,1.0,5.0,5.0,5.0,1.0,5.0,4.0,5.0,5.0,4.0,5.0,5.0,5.0,5.0,5.0,5.0,5.0,3.0,5.0,5.0,5.0,5.0,5.0,5.0,5.0,5.0,1.0,5.0,5.0,2.0,5.0,5.0,2.0,5.0,5.0,5.0,4.0,5.0,3.0,5.0,5.0,5.0,5.0,3.0,5.0,5.0,5.0,5.0,5.0,1.0,5.0,5.0,5.0,5.0,5.0,5.0,5.0,5.0,1.0,1.0,5.0,5.0,5.0,5.0,5.0,5.0,5.0,5.0,5.0,5.0,4.0,5.0,5.0,5.0,4.0,5.0,4.0,5.0,1.0,3.0,5.0,5.0,2.0,4.0,5.0,5.0,5.0,5.0,5.0,5.0,3.0,5.0,5.0,5.0,5.0,5.0,4.0,5.0,5.0,5.0,5.0,5.0,5.0,3.0,5.0,1.0,5.0,5.0,1.0,5.0,5.0,5.0,4.0,5.0,5.0,5.0,5.0,5.0,1.0,5.0,5.0,5.0,5.0,5.0,5.0,5.0,4.0,5.0,5.0,5.0,5.0,5.0,5.0,1.0,5.0,5.0,5.0,5.0,4.0,5.0,5.0,5.0,5.0,5.0,5.0,5.0,5.0,4.0,5.0,5.0,5.0,5.0,5.0,5.0,5.0,5.0,5.0,5.0,5.0,5.0,5.0,5.0,5.0,5.0,5.0,5.0,5.0,3.0,5.0,5.0,4.0,5.0,5.0,4.0,5.0,5.0,5.0,5.0,5.0,5.0,5.0,5.0,5.0,5.0,5.0,5.0,5.0,4.0,5.0,5.0,3.0,5.0,4.0,1.0,2.0,3.0,4.0,2.0,5.0,5.0,3.0,4.0,5.0,3.0,5.0,2.0,2.0,3.0,4.0,1.0,2.0,5.0,3.0,5.0,3.0,5.0,1.0,5.0,1.0,4.0,1.0,4.0,5.0,5.0,5.0,5.0,5.0,5.0,5.0,5.0,4.0,5.0,5.0,1.0,4.0,5.0,5.0,5.0,5.0,5.0,5.0,1.0,5.0,2.0,5.0,5.0,5.0,5.0,5.0,3.0,5.0,5.0,5.0,5.0,4.0,4.0,5.0,5.0,5.0,5.0,5.0,5.0,5.0,5.0,5.0,5.0,5.0,5.0,5.0,5.0,5.0,null,null,null,null,null,null,null,null,null,null,null,null,null,null,null],\"xaxis\":\"x2\",\"yaxis\":\"y2\",\"type\":\"box\"}],                        {\"template\":{\"data\":{\"bar\":[{\"error_x\":{\"color\":\"#2a3f5f\"},\"error_y\":{\"color\":\"#2a3f5f\"},\"marker\":{\"line\":{\"color\":\"#E5ECF6\",\"width\":0.5},\"pattern\":{\"fillmode\":\"overlay\",\"size\":10,\"solidity\":0.2}},\"type\":\"bar\"}],\"barpolar\":[{\"marker\":{\"line\":{\"color\":\"#E5ECF6\",\"width\":0.5},\"pattern\":{\"fillmode\":\"overlay\",\"size\":10,\"solidity\":0.2}},\"type\":\"barpolar\"}],\"carpet\":[{\"aaxis\":{\"endlinecolor\":\"#2a3f5f\",\"gridcolor\":\"white\",\"linecolor\":\"white\",\"minorgridcolor\":\"white\",\"startlinecolor\":\"#2a3f5f\"},\"baxis\":{\"endlinecolor\":\"#2a3f5f\",\"gridcolor\":\"white\",\"linecolor\":\"white\",\"minorgridcolor\":\"white\",\"startlinecolor\":\"#2a3f5f\"},\"type\":\"carpet\"}],\"choropleth\":[{\"colorbar\":{\"outlinewidth\":0,\"ticks\":\"\"},\"type\":\"choropleth\"}],\"contour\":[{\"colorbar\":{\"outlinewidth\":0,\"ticks\":\"\"},\"colorscale\":[[0.0,\"#0d0887\"],[0.1111111111111111,\"#46039f\"],[0.2222222222222222,\"#7201a8\"],[0.3333333333333333,\"#9c179e\"],[0.4444444444444444,\"#bd3786\"],[0.5555555555555556,\"#d8576b\"],[0.6666666666666666,\"#ed7953\"],[0.7777777777777778,\"#fb9f3a\"],[0.8888888888888888,\"#fdca26\"],[1.0,\"#f0f921\"]],\"type\":\"contour\"}],\"contourcarpet\":[{\"colorbar\":{\"outlinewidth\":0,\"ticks\":\"\"},\"type\":\"contourcarpet\"}],\"heatmap\":[{\"colorbar\":{\"outlinewidth\":0,\"ticks\":\"\"},\"colorscale\":[[0.0,\"#0d0887\"],[0.1111111111111111,\"#46039f\"],[0.2222222222222222,\"#7201a8\"],[0.3333333333333333,\"#9c179e\"],[0.4444444444444444,\"#bd3786\"],[0.5555555555555556,\"#d8576b\"],[0.6666666666666666,\"#ed7953\"],[0.7777777777777778,\"#fb9f3a\"],[0.8888888888888888,\"#fdca26\"],[1.0,\"#f0f921\"]],\"type\":\"heatmap\"}],\"heatmapgl\":[{\"colorbar\":{\"outlinewidth\":0,\"ticks\":\"\"},\"colorscale\":[[0.0,\"#0d0887\"],[0.1111111111111111,\"#46039f\"],[0.2222222222222222,\"#7201a8\"],[0.3333333333333333,\"#9c179e\"],[0.4444444444444444,\"#bd3786\"],[0.5555555555555556,\"#d8576b\"],[0.6666666666666666,\"#ed7953\"],[0.7777777777777778,\"#fb9f3a\"],[0.8888888888888888,\"#fdca26\"],[1.0,\"#f0f921\"]],\"type\":\"heatmapgl\"}],\"histogram\":[{\"marker\":{\"pattern\":{\"fillmode\":\"overlay\",\"size\":10,\"solidity\":0.2}},\"type\":\"histogram\"}],\"histogram2d\":[{\"colorbar\":{\"outlinewidth\":0,\"ticks\":\"\"},\"colorscale\":[[0.0,\"#0d0887\"],[0.1111111111111111,\"#46039f\"],[0.2222222222222222,\"#7201a8\"],[0.3333333333333333,\"#9c179e\"],[0.4444444444444444,\"#bd3786\"],[0.5555555555555556,\"#d8576b\"],[0.6666666666666666,\"#ed7953\"],[0.7777777777777778,\"#fb9f3a\"],[0.8888888888888888,\"#fdca26\"],[1.0,\"#f0f921\"]],\"type\":\"histogram2d\"}],\"histogram2dcontour\":[{\"colorbar\":{\"outlinewidth\":0,\"ticks\":\"\"},\"colorscale\":[[0.0,\"#0d0887\"],[0.1111111111111111,\"#46039f\"],[0.2222222222222222,\"#7201a8\"],[0.3333333333333333,\"#9c179e\"],[0.4444444444444444,\"#bd3786\"],[0.5555555555555556,\"#d8576b\"],[0.6666666666666666,\"#ed7953\"],[0.7777777777777778,\"#fb9f3a\"],[0.8888888888888888,\"#fdca26\"],[1.0,\"#f0f921\"]],\"type\":\"histogram2dcontour\"}],\"mesh3d\":[{\"colorbar\":{\"outlinewidth\":0,\"ticks\":\"\"},\"type\":\"mesh3d\"}],\"parcoords\":[{\"line\":{\"colorbar\":{\"outlinewidth\":0,\"ticks\":\"\"}},\"type\":\"parcoords\"}],\"pie\":[{\"automargin\":true,\"type\":\"pie\"}],\"scatter\":[{\"marker\":{\"colorbar\":{\"outlinewidth\":0,\"ticks\":\"\"}},\"type\":\"scatter\"}],\"scatter3d\":[{\"line\":{\"colorbar\":{\"outlinewidth\":0,\"ticks\":\"\"}},\"marker\":{\"colorbar\":{\"outlinewidth\":0,\"ticks\":\"\"}},\"type\":\"scatter3d\"}],\"scattercarpet\":[{\"marker\":{\"colorbar\":{\"outlinewidth\":0,\"ticks\":\"\"}},\"type\":\"scattercarpet\"}],\"scattergeo\":[{\"marker\":{\"colorbar\":{\"outlinewidth\":0,\"ticks\":\"\"}},\"type\":\"scattergeo\"}],\"scattergl\":[{\"marker\":{\"colorbar\":{\"outlinewidth\":0,\"ticks\":\"\"}},\"type\":\"scattergl\"}],\"scattermapbox\":[{\"marker\":{\"colorbar\":{\"outlinewidth\":0,\"ticks\":\"\"}},\"type\":\"scattermapbox\"}],\"scatterpolar\":[{\"marker\":{\"colorbar\":{\"outlinewidth\":0,\"ticks\":\"\"}},\"type\":\"scatterpolar\"}],\"scatterpolargl\":[{\"marker\":{\"colorbar\":{\"outlinewidth\":0,\"ticks\":\"\"}},\"type\":\"scatterpolargl\"}],\"scatterternary\":[{\"marker\":{\"colorbar\":{\"outlinewidth\":0,\"ticks\":\"\"}},\"type\":\"scatterternary\"}],\"surface\":[{\"colorbar\":{\"outlinewidth\":0,\"ticks\":\"\"},\"colorscale\":[[0.0,\"#0d0887\"],[0.1111111111111111,\"#46039f\"],[0.2222222222222222,\"#7201a8\"],[0.3333333333333333,\"#9c179e\"],[0.4444444444444444,\"#bd3786\"],[0.5555555555555556,\"#d8576b\"],[0.6666666666666666,\"#ed7953\"],[0.7777777777777778,\"#fb9f3a\"],[0.8888888888888888,\"#fdca26\"],[1.0,\"#f0f921\"]],\"type\":\"surface\"}],\"table\":[{\"cells\":{\"fill\":{\"color\":\"#EBF0F8\"},\"line\":{\"color\":\"white\"}},\"header\":{\"fill\":{\"color\":\"#C8D4E3\"},\"line\":{\"color\":\"white\"}},\"type\":\"table\"}]},\"layout\":{\"annotationdefaults\":{\"arrowcolor\":\"#2a3f5f\",\"arrowhead\":0,\"arrowwidth\":1},\"autotypenumbers\":\"strict\",\"coloraxis\":{\"colorbar\":{\"outlinewidth\":0,\"ticks\":\"\"}},\"colorscale\":{\"diverging\":[[0,\"#8e0152\"],[0.1,\"#c51b7d\"],[0.2,\"#de77ae\"],[0.3,\"#f1b6da\"],[0.4,\"#fde0ef\"],[0.5,\"#f7f7f7\"],[0.6,\"#e6f5d0\"],[0.7,\"#b8e186\"],[0.8,\"#7fbc41\"],[0.9,\"#4d9221\"],[1,\"#276419\"]],\"sequential\":[[0.0,\"#0d0887\"],[0.1111111111111111,\"#46039f\"],[0.2222222222222222,\"#7201a8\"],[0.3333333333333333,\"#9c179e\"],[0.4444444444444444,\"#bd3786\"],[0.5555555555555556,\"#d8576b\"],[0.6666666666666666,\"#ed7953\"],[0.7777777777777778,\"#fb9f3a\"],[0.8888888888888888,\"#fdca26\"],[1.0,\"#f0f921\"]],\"sequentialminus\":[[0.0,\"#0d0887\"],[0.1111111111111111,\"#46039f\"],[0.2222222222222222,\"#7201a8\"],[0.3333333333333333,\"#9c179e\"],[0.4444444444444444,\"#bd3786\"],[0.5555555555555556,\"#d8576b\"],[0.6666666666666666,\"#ed7953\"],[0.7777777777777778,\"#fb9f3a\"],[0.8888888888888888,\"#fdca26\"],[1.0,\"#f0f921\"]]},\"colorway\":[\"#636efa\",\"#EF553B\",\"#00cc96\",\"#ab63fa\",\"#FFA15A\",\"#19d3f3\",\"#FF6692\",\"#B6E880\",\"#FF97FF\",\"#FECB52\"],\"font\":{\"color\":\"#2a3f5f\"},\"geo\":{\"bgcolor\":\"white\",\"lakecolor\":\"white\",\"landcolor\":\"#E5ECF6\",\"showlakes\":true,\"showland\":true,\"subunitcolor\":\"white\"},\"hoverlabel\":{\"align\":\"left\"},\"hovermode\":\"closest\",\"mapbox\":{\"style\":\"light\"},\"paper_bgcolor\":\"white\",\"plot_bgcolor\":\"#E5ECF6\",\"polar\":{\"angularaxis\":{\"gridcolor\":\"white\",\"linecolor\":\"white\",\"ticks\":\"\"},\"bgcolor\":\"#E5ECF6\",\"radialaxis\":{\"gridcolor\":\"white\",\"linecolor\":\"white\",\"ticks\":\"\"}},\"scene\":{\"xaxis\":{\"backgroundcolor\":\"#E5ECF6\",\"gridcolor\":\"white\",\"gridwidth\":2,\"linecolor\":\"white\",\"showbackground\":true,\"ticks\":\"\",\"zerolinecolor\":\"white\"},\"yaxis\":{\"backgroundcolor\":\"#E5ECF6\",\"gridcolor\":\"white\",\"gridwidth\":2,\"linecolor\":\"white\",\"showbackground\":true,\"ticks\":\"\",\"zerolinecolor\":\"white\"},\"zaxis\":{\"backgroundcolor\":\"#E5ECF6\",\"gridcolor\":\"white\",\"gridwidth\":2,\"linecolor\":\"white\",\"showbackground\":true,\"ticks\":\"\",\"zerolinecolor\":\"white\"}},\"shapedefaults\":{\"line\":{\"color\":\"#2a3f5f\"}},\"ternary\":{\"aaxis\":{\"gridcolor\":\"white\",\"linecolor\":\"white\",\"ticks\":\"\"},\"baxis\":{\"gridcolor\":\"white\",\"linecolor\":\"white\",\"ticks\":\"\"},\"bgcolor\":\"#E5ECF6\",\"caxis\":{\"gridcolor\":\"white\",\"linecolor\":\"white\",\"ticks\":\"\"}},\"title\":{\"x\":0.05},\"xaxis\":{\"automargin\":true,\"gridcolor\":\"white\",\"linecolor\":\"white\",\"ticks\":\"\",\"title\":{\"standoff\":15},\"zerolinecolor\":\"white\",\"zerolinewidth\":2},\"yaxis\":{\"automargin\":true,\"gridcolor\":\"white\",\"linecolor\":\"white\",\"ticks\":\"\",\"title\":{\"standoff\":15},\"zerolinecolor\":\"white\",\"zerolinewidth\":2}}},\"xaxis\":{\"anchor\":\"y\",\"domain\":[0.0,1.0],\"title\":{\"text\":\"value\"}},\"yaxis\":{\"anchor\":\"x\",\"domain\":[0.0,0.7326],\"title\":{\"text\":\"count\"}},\"xaxis2\":{\"anchor\":\"y2\",\"domain\":[0.0,1.0],\"matches\":\"x\",\"showticklabels\":false,\"showgrid\":true},\"yaxis2\":{\"anchor\":\"x2\",\"domain\":[0.7426,1.0],\"matches\":\"y2\",\"showticklabels\":false,\"showline\":false,\"ticks\":\"\",\"showgrid\":false},\"legend\":{\"title\":{\"text\":\"variable\"},\"tracegroupgap\":0},\"margin\":{\"t\":60},\"barmode\":\"relative\"},                        {\"responsive\": true}                    ).then(function(){\n",
       "                            \n",
       "var gd = document.getElementById('f43fb354-cef2-48f6-a31b-5b96594bff8c');\n",
       "var x = new MutationObserver(function (mutations, observer) {{\n",
       "        var display = window.getComputedStyle(gd).display;\n",
       "        if (!display || display === 'none') {{\n",
       "            console.log([gd, 'removed!']);\n",
       "            Plotly.purge(gd);\n",
       "            observer.disconnect();\n",
       "        }}\n",
       "}});\n",
       "\n",
       "// Listen for the removal of the full notebook cells\n",
       "var notebookContainer = gd.closest('#notebook-container');\n",
       "if (notebookContainer) {{\n",
       "    x.observe(notebookContainer, {childList: true});\n",
       "}}\n",
       "\n",
       "// Listen for the clearing of the current output cell\n",
       "var outputEl = gd.closest('.output');\n",
       "if (outputEl) {{\n",
       "    x.observe(outputEl, {childList: true});\n",
       "}}\n",
       "\n",
       "                        })                };                });            </script>        </div>"
      ]
     },
     "metadata": {},
     "output_type": "display_data"
    }
   ],
   "source": [
    "px.histogram(df_copy.rating, marginal='box')"
   ]
  },
  {
   "cell_type": "code",
   "execution_count": 64,
   "id": "f8ba9b61",
   "metadata": {},
   "outputs": [
    {
     "name": "stderr",
     "output_type": "stream",
     "text": [
      "[nltk_data] Downloading package vader_lexicon to\n",
      "[nltk_data]     /Users/d.e.magno/nltk_data...\n",
      "[nltk_data]   Package vader_lexicon is already up-to-date!\n"
     ]
    },
    {
     "data": {
      "text/plain": [
       "True"
      ]
     },
     "execution_count": 64,
     "metadata": {},
     "output_type": "execute_result"
    }
   ],
   "source": [
    "import nltk\n",
    "import ssl\n",
    "\n",
    "try:\n",
    "    _create_unverified_https_context = ssl._create_unverified_context\n",
    "except AttributeError:\n",
    "    pass\n",
    "else:\n",
    "    ssl._create_default_https_context = _create_unverified_https_context\n",
    "\n",
    "nltk.download('vader_lexicon')"
   ]
  },
  {
   "cell_type": "code",
   "execution_count": 20,
   "id": "669bea87",
   "metadata": {},
   "outputs": [],
   "source": [
    "from nltk.sentiment.vader import SentimentIntensityAnalyzer"
   ]
  },
  {
   "cell_type": "code",
   "execution_count": 21,
   "id": "494bf65c",
   "metadata": {},
   "outputs": [],
   "source": [
    "vds = SentimentIntensityAnalyzer()"
   ]
  },
  {
   "cell_type": "code",
   "execution_count": 22,
   "id": "301f3313",
   "metadata": {},
   "outputs": [],
   "source": [
    "def label_sentiment(text: str) -> int:\n",
    "    sentiment_stats = vds.polarity_scores(text)\n",
    "    sentiment = sentiment_stats['compound']\n",
    "    \n",
    "    if sentiment >= 0.05:\n",
    "        return 1\n",
    "    elif (sentiment > -0.05) and (sentiment < 0.05):\n",
    "        return 0\n",
    "    else:\n",
    "        return -1"
   ]
  },
  {
   "cell_type": "code",
   "execution_count": 25,
   "id": "21d1759f",
   "metadata": {},
   "outputs": [],
   "source": [
    "df_copy = df.copy(deep=True)"
   ]
  },
  {
   "cell_type": "code",
   "execution_count": 38,
   "id": "719a5e41",
   "metadata": {},
   "outputs": [],
   "source": [
    "df_copy['sentiment'] = df_copy.content.apply(lambda x: label_sentiment(x) if isinstance(x, str) else x)"
   ]
  },
  {
   "cell_type": "code",
   "execution_count": 41,
   "id": "dacc9c82",
   "metadata": {
    "scrolled": true
   },
   "outputs": [
    {
     "data": {
      "text/html": [
       "<div>\n",
       "<style scoped>\n",
       "    .dataframe tbody tr th:only-of-type {\n",
       "        vertical-align: middle;\n",
       "    }\n",
       "\n",
       "    .dataframe tbody tr th {\n",
       "        vertical-align: top;\n",
       "    }\n",
       "\n",
       "    .dataframe thead th {\n",
       "        text-align: right;\n",
       "    }\n",
       "</style>\n",
       "<table border=\"1\" class=\"dataframe\">\n",
       "  <thead>\n",
       "    <tr style=\"text-align: right;\">\n",
       "      <th></th>\n",
       "      <th>title</th>\n",
       "      <th>content</th>\n",
       "      <th>date</th>\n",
       "      <th>variant</th>\n",
       "      <th>images</th>\n",
       "      <th>verified</th>\n",
       "      <th>author</th>\n",
       "      <th>rating</th>\n",
       "      <th>sentiment</th>\n",
       "    </tr>\n",
       "  </thead>\n",
       "  <tbody>\n",
       "    <tr>\n",
       "      <th>0</th>\n",
       "      <td>This is the best compromise I can find</td>\n",
       "      <td>First off, unlike the other review currently u...</td>\n",
       "      <td>Reviewed in the United States on September 23,...</td>\n",
       "      <td>NaN</td>\n",
       "      <td>['https://images-na.ssl-images-amazon.com/imag...</td>\n",
       "      <td>Verified Purchase</td>\n",
       "      <td>Dan</td>\n",
       "      <td>4.0 out of 5 stars</td>\n",
       "      <td>1.0</td>\n",
       "    </tr>\n",
       "    <tr>\n",
       "      <th>1</th>\n",
       "      <td>better than Gateron Brown -</td>\n",
       "      <td>Althgouh still prone to typos. I am goign to w...</td>\n",
       "      <td>Reviewed in the United States on September 20,...</td>\n",
       "      <td>NaN</td>\n",
       "      <td>NaN</td>\n",
       "      <td>Verified Purchase</td>\n",
       "      <td>Isra Ignateous</td>\n",
       "      <td>4.0 out of 5 stars</td>\n",
       "      <td>-1.0</td>\n",
       "    </tr>\n",
       "    <tr>\n",
       "      <th>2</th>\n",
       "      <td>OK for the price, but not \"the one\"</td>\n",
       "      <td>This keyboard has a lot to offer in a competit...</td>\n",
       "      <td>Reviewed in the United States on January 6, 2020</td>\n",
       "      <td>Color: Gateron Red Switch v2</td>\n",
       "      <td>NaN</td>\n",
       "      <td>Verified Purchase</td>\n",
       "      <td>Carl</td>\n",
       "      <td>3.0 out of 5 stars</td>\n",
       "      <td>1.0</td>\n",
       "    </tr>\n",
       "    <tr>\n",
       "      <th>3</th>\n",
       "      <td>Simple... IT'S AMAZING!</td>\n",
       "      <td>Well, there's not to much reviews about this k...</td>\n",
       "      <td>Reviewed in the United States on September 25,...</td>\n",
       "      <td>NaN</td>\n",
       "      <td>['https://images-na.ssl-images-amazon.com/imag...</td>\n",
       "      <td>Verified Purchase</td>\n",
       "      <td>Arturo</td>\n",
       "      <td>5.0 out of 5 stars</td>\n",
       "      <td>1.0</td>\n",
       "    </tr>\n",
       "    <tr>\n",
       "      <th>4</th>\n",
       "      <td>I was not expecting to fall in love with the k...</td>\n",
       "      <td>Here's the story from the beginning. When I wa...</td>\n",
       "      <td>Reviewed in the United States on May 21, 2020</td>\n",
       "      <td>NaN</td>\n",
       "      <td>NaN</td>\n",
       "      <td>Verified Purchase</td>\n",
       "      <td>Christ</td>\n",
       "      <td>5.0 out of 5 stars</td>\n",
       "      <td>1.0</td>\n",
       "    </tr>\n",
       "    <tr>\n",
       "      <th>...</th>\n",
       "      <td>...</td>\n",
       "      <td>...</td>\n",
       "      <td>...</td>\n",
       "      <td>...</td>\n",
       "      <td>...</td>\n",
       "      <td>...</td>\n",
       "      <td>...</td>\n",
       "      <td>...</td>\n",
       "      <td>...</td>\n",
       "    </tr>\n",
       "    <tr>\n",
       "      <th>568</th>\n",
       "      <td>NaN</td>\n",
       "      <td>Excelente teclado. El Bluetooth se conecta e i...</td>\n",
       "      <td>Reviewed in Mexico on October 15, 2020</td>\n",
       "      <td>Color: Gateron Red Switch v2</td>\n",
       "      <td>NaN</td>\n",
       "      <td>Verified Purchase</td>\n",
       "      <td>Edwin</td>\n",
       "      <td>NaN</td>\n",
       "      <td>1.0</td>\n",
       "    </tr>\n",
       "    <tr>\n",
       "      <th>569</th>\n",
       "      <td>NaN</td>\n",
       "      <td>1</td>\n",
       "      <td>Reviewed in Canada on July 23, 2020</td>\n",
       "      <td>Color: Gateron Red Switch v2</td>\n",
       "      <td>NaN</td>\n",
       "      <td>Verified Purchase</td>\n",
       "      <td>Miguel Wang</td>\n",
       "      <td>NaN</td>\n",
       "      <td>0.0</td>\n",
       "    </tr>\n",
       "    <tr>\n",
       "      <th>570</th>\n",
       "      <td>NaN</td>\n",
       "      <td>It's great. Not perfect, but great.</td>\n",
       "      <td>Reviewed in Australia on February 23, 2021</td>\n",
       "      <td>Color: Gateron Red Switch v2</td>\n",
       "      <td>NaN</td>\n",
       "      <td>Verified Purchase</td>\n",
       "      <td>Samuel Nielsen</td>\n",
       "      <td>NaN</td>\n",
       "      <td>1.0</td>\n",
       "    </tr>\n",
       "    <tr>\n",
       "      <th>571</th>\n",
       "      <td>NaN</td>\n",
       "      <td>Love it</td>\n",
       "      <td>Reviewed in Australia on August 15, 2020</td>\n",
       "      <td>Color: Gateron Brown Switch v2</td>\n",
       "      <td>NaN</td>\n",
       "      <td>Verified Purchase</td>\n",
       "      <td>wei cui</td>\n",
       "      <td>NaN</td>\n",
       "      <td>1.0</td>\n",
       "    </tr>\n",
       "    <tr>\n",
       "      <th>572</th>\n",
       "      <td>NaN</td>\n",
       "      <td>NaN</td>\n",
       "      <td>Reviewed in Australia on August 10, 2021</td>\n",
       "      <td>NaN</td>\n",
       "      <td>NaN</td>\n",
       "      <td>Verified Purchase</td>\n",
       "      <td>Ben Templeton</td>\n",
       "      <td>NaN</td>\n",
       "      <td>NaN</td>\n",
       "    </tr>\n",
       "  </tbody>\n",
       "</table>\n",
       "<p>573 rows × 9 columns</p>\n",
       "</div>"
      ],
      "text/plain": [
       "                                                 title  \\\n",
       "0               This is the best compromise I can find   \n",
       "1                          better than Gateron Brown -   \n",
       "2                  OK for the price, but not \"the one\"   \n",
       "3                              Simple... IT'S AMAZING!   \n",
       "4    I was not expecting to fall in love with the k...   \n",
       "..                                                 ...   \n",
       "568                                                NaN   \n",
       "569                                                NaN   \n",
       "570                                                NaN   \n",
       "571                                                NaN   \n",
       "572                                                NaN   \n",
       "\n",
       "                                               content  \\\n",
       "0    First off, unlike the other review currently u...   \n",
       "1    Althgouh still prone to typos. I am goign to w...   \n",
       "2    This keyboard has a lot to offer in a competit...   \n",
       "3    Well, there's not to much reviews about this k...   \n",
       "4    Here's the story from the beginning. When I wa...   \n",
       "..                                                 ...   \n",
       "568  Excelente teclado. El Bluetooth se conecta e i...   \n",
       "569                                                  1   \n",
       "570                It's great. Not perfect, but great.   \n",
       "571                                            Love it   \n",
       "572                                                NaN   \n",
       "\n",
       "                                                  date  \\\n",
       "0    Reviewed in the United States on September 23,...   \n",
       "1    Reviewed in the United States on September 20,...   \n",
       "2     Reviewed in the United States on January 6, 2020   \n",
       "3    Reviewed in the United States on September 25,...   \n",
       "4        Reviewed in the United States on May 21, 2020   \n",
       "..                                                 ...   \n",
       "568             Reviewed in Mexico on October 15, 2020   \n",
       "569                Reviewed in Canada on July 23, 2020   \n",
       "570         Reviewed in Australia on February 23, 2021   \n",
       "571           Reviewed in Australia on August 15, 2020   \n",
       "572           Reviewed in Australia on August 10, 2021   \n",
       "\n",
       "                            variant  \\\n",
       "0                               NaN   \n",
       "1                               NaN   \n",
       "2      Color: Gateron Red Switch v2   \n",
       "3                               NaN   \n",
       "4                               NaN   \n",
       "..                              ...   \n",
       "568    Color: Gateron Red Switch v2   \n",
       "569    Color: Gateron Red Switch v2   \n",
       "570    Color: Gateron Red Switch v2   \n",
       "571  Color: Gateron Brown Switch v2   \n",
       "572                             NaN   \n",
       "\n",
       "                                                images           verified  \\\n",
       "0    ['https://images-na.ssl-images-amazon.com/imag...  Verified Purchase   \n",
       "1                                                  NaN  Verified Purchase   \n",
       "2                                                  NaN  Verified Purchase   \n",
       "3    ['https://images-na.ssl-images-amazon.com/imag...  Verified Purchase   \n",
       "4                                                  NaN  Verified Purchase   \n",
       "..                                                 ...                ...   \n",
       "568                                                NaN  Verified Purchase   \n",
       "569                                                NaN  Verified Purchase   \n",
       "570                                                NaN  Verified Purchase   \n",
       "571                                                NaN  Verified Purchase   \n",
       "572                                                NaN  Verified Purchase   \n",
       "\n",
       "             author              rating  sentiment  \n",
       "0               Dan  4.0 out of 5 stars        1.0  \n",
       "1    Isra Ignateous  4.0 out of 5 stars       -1.0  \n",
       "2              Carl  3.0 out of 5 stars        1.0  \n",
       "3            Arturo  5.0 out of 5 stars        1.0  \n",
       "4            Christ  5.0 out of 5 stars        1.0  \n",
       "..              ...                 ...        ...  \n",
       "568           Edwin                 NaN        1.0  \n",
       "569     Miguel Wang                 NaN        0.0  \n",
       "570  Samuel Nielsen                 NaN        1.0  \n",
       "571         wei cui                 NaN        1.0  \n",
       "572   Ben Templeton                 NaN        NaN  \n",
       "\n",
       "[573 rows x 9 columns]"
      ]
     },
     "execution_count": 41,
     "metadata": {},
     "output_type": "execute_result"
    }
   ],
   "source": [
    "df_copy"
   ]
  },
  {
   "cell_type": "markdown",
   "id": "22748d8e",
   "metadata": {},
   "source": []
  },
  {
   "cell_type": "code",
   "execution_count": 2,
   "id": "e0761ff3",
   "metadata": {},
   "outputs": [],
   "source": [
    "data_path = lambda filename: Path.joinpath(Path.cwd().parent, 'data', filename)"
   ]
  },
  {
   "cell_type": "code",
   "execution_count": 14,
   "id": "5dae821f",
   "metadata": {},
   "outputs": [],
   "source": [
    "df = pd.read_csv(data_path('keychron_K2_reviews.csv'))."
   ]
  },
  {
   "cell_type": "code",
   "execution_count": 18,
   "id": "50ac584d",
   "metadata": {},
   "outputs": [],
   "source": [
    "df = df.drop(df.columns[0], axis=1)"
   ]
  },
  {
   "cell_type": "markdown",
   "id": "cdd2259d",
   "metadata": {},
   "source": []
  },
  {
   "cell_type": "code",
   "execution_count": 42,
   "id": "6c377c64",
   "metadata": {},
   "outputs": [
    {
     "data": {
      "text/html": [
       "<div>\n",
       "<style scoped>\n",
       "    .dataframe tbody tr th:only-of-type {\n",
       "        vertical-align: middle;\n",
       "    }\n",
       "\n",
       "    .dataframe tbody tr th {\n",
       "        vertical-align: top;\n",
       "    }\n",
       "\n",
       "    .dataframe thead th {\n",
       "        text-align: right;\n",
       "    }\n",
       "</style>\n",
       "<table border=\"1\" class=\"dataframe\">\n",
       "  <thead>\n",
       "    <tr style=\"text-align: right;\">\n",
       "      <th></th>\n",
       "      <th>title</th>\n",
       "      <th>content</th>\n",
       "      <th>date</th>\n",
       "      <th>variant</th>\n",
       "      <th>images</th>\n",
       "      <th>verified</th>\n",
       "      <th>author</th>\n",
       "      <th>rating</th>\n",
       "      <th>sentiment</th>\n",
       "    </tr>\n",
       "  </thead>\n",
       "  <tbody>\n",
       "    <tr>\n",
       "      <th>0</th>\n",
       "      <td>This is the best compromise I can find</td>\n",
       "      <td>First off, unlike the other review currently u...</td>\n",
       "      <td>Reviewed in the United States on September 23,...</td>\n",
       "      <td>NaN</td>\n",
       "      <td>['https://images-na.ssl-images-amazon.com/imag...</td>\n",
       "      <td>Verified Purchase</td>\n",
       "      <td>Dan</td>\n",
       "      <td>4.0 out of 5 stars</td>\n",
       "      <td>1.0</td>\n",
       "    </tr>\n",
       "    <tr>\n",
       "      <th>1</th>\n",
       "      <td>better than Gateron Brown -</td>\n",
       "      <td>Althgouh still prone to typos. I am goign to w...</td>\n",
       "      <td>Reviewed in the United States on September 20,...</td>\n",
       "      <td>NaN</td>\n",
       "      <td>NaN</td>\n",
       "      <td>Verified Purchase</td>\n",
       "      <td>Isra Ignateous</td>\n",
       "      <td>4.0 out of 5 stars</td>\n",
       "      <td>-1.0</td>\n",
       "    </tr>\n",
       "    <tr>\n",
       "      <th>2</th>\n",
       "      <td>OK for the price, but not \"the one\"</td>\n",
       "      <td>This keyboard has a lot to offer in a competit...</td>\n",
       "      <td>Reviewed in the United States on January 6, 2020</td>\n",
       "      <td>Color: Gateron Red Switch v2</td>\n",
       "      <td>NaN</td>\n",
       "      <td>Verified Purchase</td>\n",
       "      <td>Carl</td>\n",
       "      <td>3.0 out of 5 stars</td>\n",
       "      <td>1.0</td>\n",
       "    </tr>\n",
       "    <tr>\n",
       "      <th>3</th>\n",
       "      <td>Simple... IT'S AMAZING!</td>\n",
       "      <td>Well, there's not to much reviews about this k...</td>\n",
       "      <td>Reviewed in the United States on September 25,...</td>\n",
       "      <td>NaN</td>\n",
       "      <td>['https://images-na.ssl-images-amazon.com/imag...</td>\n",
       "      <td>Verified Purchase</td>\n",
       "      <td>Arturo</td>\n",
       "      <td>5.0 out of 5 stars</td>\n",
       "      <td>1.0</td>\n",
       "    </tr>\n",
       "    <tr>\n",
       "      <th>4</th>\n",
       "      <td>I was not expecting to fall in love with the k...</td>\n",
       "      <td>Here's the story from the beginning. When I wa...</td>\n",
       "      <td>Reviewed in the United States on May 21, 2020</td>\n",
       "      <td>NaN</td>\n",
       "      <td>NaN</td>\n",
       "      <td>Verified Purchase</td>\n",
       "      <td>Christ</td>\n",
       "      <td>5.0 out of 5 stars</td>\n",
       "      <td>1.0</td>\n",
       "    </tr>\n",
       "    <tr>\n",
       "      <th>...</th>\n",
       "      <td>...</td>\n",
       "      <td>...</td>\n",
       "      <td>...</td>\n",
       "      <td>...</td>\n",
       "      <td>...</td>\n",
       "      <td>...</td>\n",
       "      <td>...</td>\n",
       "      <td>...</td>\n",
       "      <td>...</td>\n",
       "    </tr>\n",
       "    <tr>\n",
       "      <th>568</th>\n",
       "      <td>NaN</td>\n",
       "      <td>Excelente teclado. El Bluetooth se conecta e i...</td>\n",
       "      <td>Reviewed in Mexico on October 15, 2020</td>\n",
       "      <td>Color: Gateron Red Switch v2</td>\n",
       "      <td>NaN</td>\n",
       "      <td>Verified Purchase</td>\n",
       "      <td>Edwin</td>\n",
       "      <td>NaN</td>\n",
       "      <td>1.0</td>\n",
       "    </tr>\n",
       "    <tr>\n",
       "      <th>569</th>\n",
       "      <td>NaN</td>\n",
       "      <td>1</td>\n",
       "      <td>Reviewed in Canada on July 23, 2020</td>\n",
       "      <td>Color: Gateron Red Switch v2</td>\n",
       "      <td>NaN</td>\n",
       "      <td>Verified Purchase</td>\n",
       "      <td>Miguel Wang</td>\n",
       "      <td>NaN</td>\n",
       "      <td>0.0</td>\n",
       "    </tr>\n",
       "    <tr>\n",
       "      <th>570</th>\n",
       "      <td>NaN</td>\n",
       "      <td>It's great. Not perfect, but great.</td>\n",
       "      <td>Reviewed in Australia on February 23, 2021</td>\n",
       "      <td>Color: Gateron Red Switch v2</td>\n",
       "      <td>NaN</td>\n",
       "      <td>Verified Purchase</td>\n",
       "      <td>Samuel Nielsen</td>\n",
       "      <td>NaN</td>\n",
       "      <td>1.0</td>\n",
       "    </tr>\n",
       "    <tr>\n",
       "      <th>571</th>\n",
       "      <td>NaN</td>\n",
       "      <td>Love it</td>\n",
       "      <td>Reviewed in Australia on August 15, 2020</td>\n",
       "      <td>Color: Gateron Brown Switch v2</td>\n",
       "      <td>NaN</td>\n",
       "      <td>Verified Purchase</td>\n",
       "      <td>wei cui</td>\n",
       "      <td>NaN</td>\n",
       "      <td>1.0</td>\n",
       "    </tr>\n",
       "    <tr>\n",
       "      <th>572</th>\n",
       "      <td>NaN</td>\n",
       "      <td>NaN</td>\n",
       "      <td>Reviewed in Australia on August 10, 2021</td>\n",
       "      <td>NaN</td>\n",
       "      <td>NaN</td>\n",
       "      <td>Verified Purchase</td>\n",
       "      <td>Ben Templeton</td>\n",
       "      <td>NaN</td>\n",
       "      <td>NaN</td>\n",
       "    </tr>\n",
       "  </tbody>\n",
       "</table>\n",
       "<p>573 rows × 9 columns</p>\n",
       "</div>"
      ],
      "text/plain": [
       "                                                 title  \\\n",
       "0               This is the best compromise I can find   \n",
       "1                          better than Gateron Brown -   \n",
       "2                  OK for the price, but not \"the one\"   \n",
       "3                              Simple... IT'S AMAZING!   \n",
       "4    I was not expecting to fall in love with the k...   \n",
       "..                                                 ...   \n",
       "568                                                NaN   \n",
       "569                                                NaN   \n",
       "570                                                NaN   \n",
       "571                                                NaN   \n",
       "572                                                NaN   \n",
       "\n",
       "                                               content  \\\n",
       "0    First off, unlike the other review currently u...   \n",
       "1    Althgouh still prone to typos. I am goign to w...   \n",
       "2    This keyboard has a lot to offer in a competit...   \n",
       "3    Well, there's not to much reviews about this k...   \n",
       "4    Here's the story from the beginning. When I wa...   \n",
       "..                                                 ...   \n",
       "568  Excelente teclado. El Bluetooth se conecta e i...   \n",
       "569                                                  1   \n",
       "570                It's great. Not perfect, but great.   \n",
       "571                                            Love it   \n",
       "572                                                NaN   \n",
       "\n",
       "                                                  date  \\\n",
       "0    Reviewed in the United States on September 23,...   \n",
       "1    Reviewed in the United States on September 20,...   \n",
       "2     Reviewed in the United States on January 6, 2020   \n",
       "3    Reviewed in the United States on September 25,...   \n",
       "4        Reviewed in the United States on May 21, 2020   \n",
       "..                                                 ...   \n",
       "568             Reviewed in Mexico on October 15, 2020   \n",
       "569                Reviewed in Canada on July 23, 2020   \n",
       "570         Reviewed in Australia on February 23, 2021   \n",
       "571           Reviewed in Australia on August 15, 2020   \n",
       "572           Reviewed in Australia on August 10, 2021   \n",
       "\n",
       "                            variant  \\\n",
       "0                               NaN   \n",
       "1                               NaN   \n",
       "2      Color: Gateron Red Switch v2   \n",
       "3                               NaN   \n",
       "4                               NaN   \n",
       "..                              ...   \n",
       "568    Color: Gateron Red Switch v2   \n",
       "569    Color: Gateron Red Switch v2   \n",
       "570    Color: Gateron Red Switch v2   \n",
       "571  Color: Gateron Brown Switch v2   \n",
       "572                             NaN   \n",
       "\n",
       "                                                images           verified  \\\n",
       "0    ['https://images-na.ssl-images-amazon.com/imag...  Verified Purchase   \n",
       "1                                                  NaN  Verified Purchase   \n",
       "2                                                  NaN  Verified Purchase   \n",
       "3    ['https://images-na.ssl-images-amazon.com/imag...  Verified Purchase   \n",
       "4                                                  NaN  Verified Purchase   \n",
       "..                                                 ...                ...   \n",
       "568                                                NaN  Verified Purchase   \n",
       "569                                                NaN  Verified Purchase   \n",
       "570                                                NaN  Verified Purchase   \n",
       "571                                                NaN  Verified Purchase   \n",
       "572                                                NaN  Verified Purchase   \n",
       "\n",
       "             author              rating  sentiment  \n",
       "0               Dan  4.0 out of 5 stars        1.0  \n",
       "1    Isra Ignateous  4.0 out of 5 stars       -1.0  \n",
       "2              Carl  3.0 out of 5 stars        1.0  \n",
       "3            Arturo  5.0 out of 5 stars        1.0  \n",
       "4            Christ  5.0 out of 5 stars        1.0  \n",
       "..              ...                 ...        ...  \n",
       "568           Edwin                 NaN        1.0  \n",
       "569     Miguel Wang                 NaN        0.0  \n",
       "570  Samuel Nielsen                 NaN        1.0  \n",
       "571         wei cui                 NaN        1.0  \n",
       "572   Ben Templeton                 NaN        NaN  \n",
       "\n",
       "[573 rows x 9 columns]"
      ]
     },
     "execution_count": 42,
     "metadata": {},
     "output_type": "execute_result"
    }
   ],
   "source": [
    "df_copy"
   ]
  },
  {
   "cell_type": "code",
   "execution_count": 125,
   "id": "904dfc65",
   "metadata": {},
   "outputs": [],
   "source": [
    "import nltk\n",
    "from nltk.corpus import stopwords\n",
    "from nltk import word_tokenize"
   ]
  },
  {
   "cell_type": "code",
   "execution_count": 53,
   "id": "673c407e",
   "metadata": {},
   "outputs": [],
   "source": [
    "reviews = df_copy.content.apply(lambda x: word_tokenize(x) if isinstance(x, str) else x)"
   ]
  },
  {
   "cell_type": "code",
   "execution_count": 141,
   "id": "db489354",
   "metadata": {},
   "outputs": [],
   "source": [
    "stop_words = set(stopwords.words('english') + [\"can\\'t\"])"
   ]
  },
  {
   "cell_type": "code",
   "execution_count": 142,
   "id": "edc3ff81",
   "metadata": {},
   "outputs": [
    {
     "data": {
      "text/plain": [
       "{'a',\n",
       " 'about',\n",
       " 'above',\n",
       " 'after',\n",
       " 'again',\n",
       " 'against',\n",
       " 'ain',\n",
       " 'all',\n",
       " 'am',\n",
       " 'an',\n",
       " 'and',\n",
       " 'any',\n",
       " 'are',\n",
       " 'aren',\n",
       " \"aren't\",\n",
       " 'as',\n",
       " 'at',\n",
       " 'be',\n",
       " 'because',\n",
       " 'been',\n",
       " 'before',\n",
       " 'being',\n",
       " 'below',\n",
       " 'between',\n",
       " 'both',\n",
       " 'but',\n",
       " 'by',\n",
       " 'can',\n",
       " \"can't\",\n",
       " 'couldn',\n",
       " \"couldn't\",\n",
       " 'd',\n",
       " 'did',\n",
       " 'didn',\n",
       " \"didn't\",\n",
       " 'do',\n",
       " 'does',\n",
       " 'doesn',\n",
       " \"doesn't\",\n",
       " 'doing',\n",
       " 'don',\n",
       " \"don't\",\n",
       " 'down',\n",
       " 'during',\n",
       " 'each',\n",
       " 'few',\n",
       " 'for',\n",
       " 'from',\n",
       " 'further',\n",
       " 'had',\n",
       " 'hadn',\n",
       " \"hadn't\",\n",
       " 'has',\n",
       " 'hasn',\n",
       " \"hasn't\",\n",
       " 'have',\n",
       " 'haven',\n",
       " \"haven't\",\n",
       " 'having',\n",
       " 'he',\n",
       " 'her',\n",
       " 'here',\n",
       " 'hers',\n",
       " 'herself',\n",
       " 'him',\n",
       " 'himself',\n",
       " 'his',\n",
       " 'how',\n",
       " 'i',\n",
       " 'if',\n",
       " 'in',\n",
       " 'into',\n",
       " 'is',\n",
       " 'isn',\n",
       " \"isn't\",\n",
       " 'it',\n",
       " \"it's\",\n",
       " 'its',\n",
       " 'itself',\n",
       " 'just',\n",
       " 'll',\n",
       " 'm',\n",
       " 'ma',\n",
       " 'me',\n",
       " 'mightn',\n",
       " \"mightn't\",\n",
       " 'more',\n",
       " 'most',\n",
       " 'mustn',\n",
       " \"mustn't\",\n",
       " 'my',\n",
       " 'myself',\n",
       " 'needn',\n",
       " \"needn't\",\n",
       " 'no',\n",
       " 'nor',\n",
       " 'not',\n",
       " 'now',\n",
       " 'o',\n",
       " 'of',\n",
       " 'off',\n",
       " 'on',\n",
       " 'once',\n",
       " 'only',\n",
       " 'or',\n",
       " 'other',\n",
       " 'our',\n",
       " 'ours',\n",
       " 'ourselves',\n",
       " 'out',\n",
       " 'over',\n",
       " 'own',\n",
       " 're',\n",
       " 's',\n",
       " 'same',\n",
       " 'shan',\n",
       " \"shan't\",\n",
       " 'she',\n",
       " \"she's\",\n",
       " 'should',\n",
       " \"should've\",\n",
       " 'shouldn',\n",
       " \"shouldn't\",\n",
       " 'so',\n",
       " 'some',\n",
       " 'such',\n",
       " 't',\n",
       " 'than',\n",
       " 'that',\n",
       " \"that'll\",\n",
       " 'the',\n",
       " 'their',\n",
       " 'theirs',\n",
       " 'them',\n",
       " 'themselves',\n",
       " 'then',\n",
       " 'there',\n",
       " 'these',\n",
       " 'they',\n",
       " 'this',\n",
       " 'those',\n",
       " 'through',\n",
       " 'to',\n",
       " 'too',\n",
       " 'under',\n",
       " 'until',\n",
       " 'up',\n",
       " 've',\n",
       " 'very',\n",
       " 'was',\n",
       " 'wasn',\n",
       " \"wasn't\",\n",
       " 'we',\n",
       " 'were',\n",
       " 'weren',\n",
       " \"weren't\",\n",
       " 'what',\n",
       " 'when',\n",
       " 'where',\n",
       " 'which',\n",
       " 'while',\n",
       " 'who',\n",
       " 'whom',\n",
       " 'why',\n",
       " 'will',\n",
       " 'with',\n",
       " 'won',\n",
       " \"won't\",\n",
       " 'wouldn',\n",
       " \"wouldn't\",\n",
       " 'y',\n",
       " 'you',\n",
       " \"you'd\",\n",
       " \"you'll\",\n",
       " \"you're\",\n",
       " \"you've\",\n",
       " 'your',\n",
       " 'yours',\n",
       " 'yourself',\n",
       " 'yourselves'}"
      ]
     },
     "execution_count": 142,
     "metadata": {},
     "output_type": "execute_result"
    }
   ],
   "source": [
    "stop_words"
   ]
  },
  {
   "cell_type": "code",
   "execution_count": 51,
   "id": "25191444",
   "metadata": {},
   "outputs": [],
   "source": [
    "def remove_stopwords(tokens: str) -> List[str]:\n",
    "    return [word for word in tokens if not word in stop_words]"
   ]
  },
  {
   "cell_type": "code",
   "execution_count": 57,
   "id": "a401c666",
   "metadata": {},
   "outputs": [
    {
     "data": {
      "text/plain": [
       "0      [First, off, ,, unlike, the, other, review, cu...\n",
       "1      [Althgouh, still, prone, to, typos, ., I, am, ...\n",
       "2      [This, keyboard, has, a, lot, to, offer, in, a...\n",
       "3      [Well, ,, there, 's, not, to, much, reviews, a...\n",
       "4      [Here, 's, the, story, from, the, beginning, ....\n",
       "                             ...                        \n",
       "568    [Excelente, teclado, ., El, Bluetooth, se, con...\n",
       "569                                                  [1]\n",
       "570    [It, 's, great, ., Not, perfect, ,, but, great...\n",
       "571                                           [Love, it]\n",
       "572                                                  NaN\n",
       "Name: content, Length: 573, dtype: object"
      ]
     },
     "execution_count": 57,
     "metadata": {},
     "output_type": "execute_result"
    }
   ],
   "source": [
    "reviews"
   ]
  },
  {
   "cell_type": "code",
   "execution_count": 69,
   "id": "eec6d07f",
   "metadata": {},
   "outputs": [],
   "source": [
    "filtered_reviews = reviews.apply(lambda x: remove_stopwords(x) if isinstance(x, list) else x)"
   ]
  },
  {
   "cell_type": "code",
   "execution_count": 78,
   "id": "6b00c76c",
   "metadata": {},
   "outputs": [],
   "source": [
    "sample = filtered_reviews[0]"
   ]
  },
  {
   "cell_type": "code",
   "execution_count": 77,
   "id": "b32ec5f3",
   "metadata": {},
   "outputs": [],
   "source": [
    "import re"
   ]
  },
  {
   "cell_type": "code",
   "execution_count": 81,
   "id": "c26005df",
   "metadata": {},
   "outputs": [
    {
     "data": {
      "text/plain": [
       "\"First , unlike review currently right I n't find making typing errors I blame keyboard . I use mostly work I type A LOT , pretty much I write e-mails day , chat coworkers small amount programming . Programming course ca n't typos , otherwise things simply n't work . Likewise , e-mails instructions people technical . A typo could make difference world I trying convey . If keyboard type 100 % correctly I would sending back . That simply case . If 're wondering ; I connected via Bluetooth HP laptop runs Windows 10 . My laptop line-of-sight keyboard ; physical obstructions two 're maybe grand total three feet . Anyway , covers probably reliability typing , rest ? Well personally keyboard I seen comes close ticking boxes , needs wants : -Mechanical -Wireless -84-key -Aluminum deck -USB-C So compromise ? Well , n't Cherry switches , price wo n't get . Nevertheless , I n't complaints Gatereon switches . They 're smooth feel great type . Ca n't say I much experience Reds though , I like . Secondly , 's USB-C stuck connector side keyboard . Who ? It 's weird . Not I plan using plugged , I need recharge I 'll plug overnight , still ... Lastly , wireless . It 'd nice dongle transceiver like Logitech products since work oh well alas uses Bluetooth . As I said , I use work , I n't game I intend tiny bit every never . Having said I seen enough times keyboard catch typing ( 's never missed key I 've pressed either ) , however infrequently happens , even hour 'd enough frustrate gamer . Then , bought gaming , fooling think , wireless keyboard , would good . Edit : one last thing worth mentioning BT wireless set , default , power-saving mode . That ten minutes inactivity keyboard goes sleep , maintains connection . It 's never issue waking . Related , whenever I start connects immediately flawlessly , never issue connecting works ( power cycling going Settings , etc . ) But ! It IS USB-C ! Even 's weird position . It IS wireless , even plays catch sometimes . It IS mechanical , even 's gold standard Cherry switches . Also , IS 84-key : inbetween 60 % TKL I describe . It DOES aluminum deck well , feels nice touch , machined well , gives nice , unique property . Also , lights , like RGB lights . I n't really care feature I leave anyway . It 's short days I typing far I love . Not sure long battery last I remember I report lasted basically day day typing full time . tl ; dr : I love keyboard , everything I wanted wireless , mechanical keyboard , I would fix couple things . Edit 10/07/19 : I noticed LED side started blink indicates 's battery level 15 % . Also , I lie ended turning backlit LEDs see I liked I . Mine fairly low consumption I kept second lowest brightness setting , solid red , reactive sort input lit set brightness constantly . I also normal power saving mode left ( ten minutes inactivity sleeps , IIRC ) I never switched keyboard . I keep laptop whole time , minus first weekend turned , nothing keyboard connect anyway . So receiving 09/19/19 I used every weekday work I desk , typing majority time ( fair I also fair bit research well phone calls , meetings , etc . I generally typing ) . I would count today day I got half days , 's 13 , eight hour days steady usage got 15 % ( light may longer , I noticed ) . Take . I going see last next hour half I stop working I n't bother charging . I mean , I got I n't want see cables . If I charge every couple weeks work I n't mind one bit .\""
      ]
     },
     "execution_count": 81,
     "metadata": {},
     "output_type": "execute_result"
    }
   ],
   "source": [
    "' '.join(sample)"
   ]
  },
  {
   "cell_type": "code",
   "execution_count": 169,
   "id": "a9ca3242",
   "metadata": {},
   "outputs": [],
   "source": [
    "def pipe(raw_input: Any, *functions, **functions_with_args) -> Any:\n",
    "    \"\"\"\n",
    "    Creates a pipeline (or chain) for every function. Basically,\n",
    "    this function initially accepts a data then passes it to the next\n",
    "    function, then the output passes it to the next function as input.\n",
    "    Args:\n",
    "        raw_input (Any): Any input, could be list, tuple, etc.\n",
    "    Other Parameters:\n",
    "        param1 (Callable): Any function with only one argument.\n",
    "        param2 (Callable): Any function with only one argument.\n",
    "        ...\n",
    "    Keyword Args:\n",
    "        key1 (Callable): Any function with one or more than one\n",
    "            arguments with arguments written as list.\n",
    "        key2 (Callable): Any function with one or more than one\n",
    "            arguments with arguments written as list.\n",
    "        ...\n",
    "    Returns:\n",
    "        Any: Any output as a result of the functions it goes through.\n",
    "    \"\"\"\n",
    "\n",
    "    # TODO: Needs more improvement for robustness.\n",
    "    # Currently it will only work for some cases.\n",
    "    output = raw_input\n",
    "\n",
    "    if functions:\n",
    "        for function in functions:\n",
    "            output = function(output)\n",
    "\n",
    "    if functions_with_args:\n",
    "        for function, args_list in functions_with_args.items():\n",
    "            output = eval(function)(output, *args_list)\n",
    "\n",
    "    return output"
   ]
  },
  {
   "cell_type": "code",
   "execution_count": 171,
   "id": "8cd471d6",
   "metadata": {},
   "outputs": [],
   "source": [
    "def remove_possessive(text: str) -> str:\n",
    "    pattern = r\"(\\'s)\"\n",
    "    return re.sub(pattern, \"\", text).strip()\n",
    "\n",
    "\n",
    "def remove_punctuations(text: str) -> str:\n",
    "    pattern = r\"[^\\w\\s]\"\n",
    "    return re.sub(pattern, \"\", text).strip()\n",
    "\n",
    "\n",
    "def remove_doublespace(text: str) -> str:\n",
    "    pattern = r\" +\"\n",
    "    return re.sub(pattern, \" \", text).strip()\n",
    "\n",
    "\n",
    "def remove_single(text: str) -> str:\n",
    "    pattern = r\"\\b[a-zA-Z]\\b\"\n",
    "    return re.sub(pattern, \"\", text)\n",
    "\n",
    "\n",
    "def remove_specific(text: str) -> str:\n",
    "    pattern = r\"nt\"\n",
    "    return re.sub(pattern, \"\", text)\n",
    "\n",
    "\n",
    "def clean_text(text: str) -> str:\n",
    "    return pipe(\n",
    "        text,\n",
    "        remove_punctuations,\n",
    "        remove_single,\n",
    "        remove_specific,\n",
    "        remove_doublespace\n",
    "    )"
   ]
  },
  {
   "cell_type": "code",
   "execution_count": 144,
   "id": "2249b092",
   "metadata": {},
   "outputs": [],
   "source": [
    "sample_text = ' '.join(sample).strip()"
   ]
  },
  {
   "cell_type": "code",
   "execution_count": 172,
   "id": "5ad7c03b",
   "metadata": {},
   "outputs": [],
   "source": [
    "cleaned_text = clean_text(sample_text)"
   ]
  },
  {
   "cell_type": "code",
   "execution_count": 176,
   "id": "699ec40f",
   "metadata": {},
   "outputs": [],
   "source": [
    "freq = nltk.FreqDist(cleaned_text.split())"
   ]
  },
  {
   "cell_type": "code",
   "execution_count": 181,
   "id": "879aa5f7",
   "metadata": {},
   "outputs": [
    {
     "data": {
      "text/plain": [
       "[('keyboard', 12),\n",
       " ('It', 8),\n",
       " ('typing', 7),\n",
       " ('work', 6),\n",
       " ('wireless', 5),\n",
       " ('never', 5),\n",
       " ('day', 4),\n",
       " ('would', 4),\n",
       " ('well', 4),\n",
       " ('IS', 4),\n",
       " ('type', 3),\n",
       " ('If', 3),\n",
       " ('re', 3),\n",
       " ('laptop', 3),\n",
       " ('USBC', 3),\n",
       " ('switches', 3),\n",
       " ('like', 3),\n",
       " ('nice', 3),\n",
       " ('bit', 3),\n",
       " ('every', 3)]"
      ]
     },
     "execution_count": 181,
     "metadata": {},
     "output_type": "execute_result"
    }
   ],
   "source": [
    "freq.most_common(20)"
   ]
  },
  {
   "cell_type": "code",
   "execution_count": 183,
   "id": "6bba9de1",
   "metadata": {},
   "outputs": [],
   "source": [
    "from nltk.stem import WordNetLemmatizer \n",
    "lemmatizer = WordNetLemmatizer()"
   ]
  },
  {
   "cell_type": "code",
   "execution_count": 187,
   "id": "02dabd57",
   "metadata": {},
   "outputs": [
    {
     "data": {
      "text/plain": [
       "[('cute', 'NN'), ('lovely', 'RB'), ('beautiful', 'JJ')]"
      ]
     },
     "execution_count": 187,
     "metadata": {},
     "output_type": "execute_result"
    }
   ],
   "source": [
    "nltk.pos_tag(['cute', 'lovely', 'beautiful'])"
   ]
  },
  {
   "cell_type": "code",
   "execution_count": 192,
   "id": "422f4676",
   "metadata": {},
   "outputs": [],
   "source": [
    "adjectives = [x for (x,y) in nltk.pos_tag(cleaned_text.split()) if y in ('JJ')]"
   ]
  },
  {
   "cell_type": "code",
   "execution_count": 195,
   "id": "75882b71",
   "metadata": {},
   "outputs": [
    {
     "data": {
      "text/plain": [
       "'right much small technical laptop laptop physical grand total ticking smooth great much connector plan plugged ll nice alas tiny enough key enough last sleep start wireless mechanical gold inbetween feels nice nice unique short sure last remember full tl wireless mechanical couple backlit low second solid red reactive normal ten inactivity keyboard laptop whole weekday fair half steady usage noticed last next stop mean wa'"
      ]
     },
     "execution_count": 195,
     "metadata": {},
     "output_type": "execute_result"
    }
   ],
   "source": [
    "' '.join(adjectives)"
   ]
  },
  {
   "cell_type": "code",
   "execution_count": 200,
   "id": "43bd4cc5",
   "metadata": {},
   "outputs": [
    {
     "data": {
      "image/png": "[encoded data removed]",
      "text/plain": [
       "<Figure size 432x288 with 1 Axes>"
      ]
     },
     "metadata": {
      "needs_background": "light"
     },
     "output_type": "display_data"
    }
   ],
   "source": [
    "from wordcloud import WordCloud\n",
    "import matplotlib.pyplot as plt\n",
    "\n",
    "# Create and generate a word cloud image:\n",
    "wordcloud = WordCloud(background_color='white').generate(' '.join(adjectives))\n",
    "\n",
    "# Display the generated image:\n",
    "plt.imshow(wordcloud, interpolation='bilinear')\n",
    "plt.axis(\"off\")\n",
    "plt.show()\n"
   ]
  },
  {
   "cell_type": "code",
   "execution_count": null,
   "id": "e51f47a9",
   "metadata": {},
   "outputs": [],
   "source": []
  }
 ],
 "metadata": {
  "kernelspec": {
   "display_name": "keychron-reviews-analysis",
   "language": "python",
   "name": "keychron-reviews-analysis"
  },
  "language_info": {
   "codemirror_mode": {
    "name": "ipython",
    "version": 3
   },
   "file_extension": ".py",
   "mimetype": "text/x-python",
   "name": "python",
   "nbconvert_exporter": "python",
   "pygments_lexer": "ipython3",
   "version": "3.9.7"
  }
 },
 "nbformat": 4,
 "nbformat_minor": 5
}
